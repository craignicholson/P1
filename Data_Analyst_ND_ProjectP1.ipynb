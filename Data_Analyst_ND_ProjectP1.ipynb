{
 "cells": [
  {
   "cell_type": "markdown",
   "metadata": {},
   "source": [
    "# Test a Perceptual Phenomenon\n",
    "\n",
    "\n",
    "Craig Nicholson  \n",
    "September 2, 2015\n",
    "* * *\n",
    "\n",
    "In this project, you will investigate a classic phenomenon from experimental psychology called the Stroop Effect. You will learn a little bit about the experiment, create a hypothesis regarding the outcome of the task, then go through the task yourself. You will then look at some data collected from others who have performed the same task and will compute some statistics describing the results. Finally, you will interpret your results in terms of your hypotheses."
   ]
  },
  {
   "cell_type": "markdown",
   "metadata": {},
   "source": [
    "## Statistics: The Science of Decisions Project Instructions\n",
    "\n",
    "### Background Information\n",
    "\n",
    "In a Stroop task, participants are presented with a list of words, with each word displayed in a color of ink. The participant’s task is to say out loud the color of the ink in which the word is printed. The task has two conditions: a **congruent** words condition, and an **incongruent** words condition. In the congruent words condition, the words being displayed are color words whose names match the colors in which they are printed: for example RED, BLUE. In the incongruent words condition, the words displayed are color words whose names do not match the colors in which they are printed: for example PURPLE, ORANGE. In each case, we measure the time it takes to name the ink colors in equally-sized lists. Each participant will go through and record a time from each condition."
   ]
  },
  {
   "cell_type": "markdown",
   "metadata": {},
   "source": [
    "### Imports"
   ]
  },
  {
   "cell_type": "code",
   "execution_count": 1,
   "metadata": {
    "collapsed": false
   },
   "outputs": [
    {
     "name": "stdout",
     "output_type": "stream",
     "text": [
      "Populating the interactive namespace from numpy and matplotlib\n"
     ]
    }
   ],
   "source": [
    "import pandas as pd\n",
    "import scipy.stats as stats\n",
    "import statsmodels as sm\n",
    "from pandas.tools.plotting import scatter_matrix\n",
    "from scipy.stats import ttest_ind\n",
    "from scipy.stats import f_oneway\n",
    "from scipy.stats import kruskal\n",
    "from statsmodels.stats.multicomp import (pairwise_tukeyhsd,\n",
    "                                         MultiComparison)\n",
    "\n",
    "# display plot within the notebook rather than a new window\n",
    "%pylab inline\n",
    "\n",
    "import matplotlib.pyplot as plt"
   ]
  },
  {
   "cell_type": "markdown",
   "metadata": {},
   "source": [
    "### Load the data"
   ]
  },
  {
   "cell_type": "code",
   "execution_count": 2,
   "metadata": {
    "collapsed": false
   },
   "outputs": [
    {
     "data": {
      "text/html": [
       "<div>\n",
       "<table border=\"1\" class=\"dataframe\">\n",
       "  <thead>\n",
       "    <tr style=\"text-align: right;\">\n",
       "      <th></th>\n",
       "      <th>Congruent</th>\n",
       "      <th>Incongruent</th>\n",
       "    </tr>\n",
       "  </thead>\n",
       "  <tbody>\n",
       "    <tr>\n",
       "      <th>0</th>\n",
       "      <td>12.079</td>\n",
       "      <td>19.278</td>\n",
       "    </tr>\n",
       "    <tr>\n",
       "      <th>1</th>\n",
       "      <td>16.791</td>\n",
       "      <td>18.741</td>\n",
       "    </tr>\n",
       "    <tr>\n",
       "      <th>2</th>\n",
       "      <td>9.564</td>\n",
       "      <td>21.214</td>\n",
       "    </tr>\n",
       "    <tr>\n",
       "      <th>3</th>\n",
       "      <td>8.630</td>\n",
       "      <td>15.687</td>\n",
       "    </tr>\n",
       "    <tr>\n",
       "      <th>4</th>\n",
       "      <td>14.669</td>\n",
       "      <td>22.803</td>\n",
       "    </tr>\n",
       "  </tbody>\n",
       "</table>\n",
       "</div>"
      ],
      "text/plain": [
       "   Congruent  Incongruent\n",
       "0     12.079       19.278\n",
       "1     16.791       18.741\n",
       "2      9.564       21.214\n",
       "3      8.630       15.687\n",
       "4     14.669       22.803"
      ]
     },
     "execution_count": 2,
     "metadata": {},
     "output_type": "execute_result"
    }
   ],
   "source": [
    "# load the stroopdata.csv\n",
    "path = '~/Downloads/P1/stroopdata.csv'\n",
    "df = pd.read_csv(path)\n",
    "# show a 5 records\n",
    "df.head(n=5)"
   ]
  },
  {
   "cell_type": "markdown",
   "metadata": {},
   "source": [
    "Display a variety of summary statistics about the columns of a DataFrame (excluding NAs of course)."
   ]
  },
  {
   "cell_type": "code",
   "execution_count": 98,
   "metadata": {
    "collapsed": false,
    "scrolled": true
   },
   "outputs": [
    {
     "data": {
      "text/html": [
       "<div>\n",
       "<table border=\"1\" class=\"dataframe\">\n",
       "  <thead>\n",
       "    <tr style=\"text-align: right;\">\n",
       "      <th></th>\n",
       "      <th>Congruent</th>\n",
       "      <th>Incongruent</th>\n",
       "    </tr>\n",
       "  </thead>\n",
       "  <tbody>\n",
       "    <tr>\n",
       "      <th>count</th>\n",
       "      <td>24.000000</td>\n",
       "      <td>24.000000</td>\n",
       "    </tr>\n",
       "    <tr>\n",
       "      <th>mean</th>\n",
       "      <td>14.051125</td>\n",
       "      <td>22.015917</td>\n",
       "    </tr>\n",
       "    <tr>\n",
       "      <th>std</th>\n",
       "      <td>3.559358</td>\n",
       "      <td>4.797057</td>\n",
       "    </tr>\n",
       "    <tr>\n",
       "      <th>min</th>\n",
       "      <td>8.630000</td>\n",
       "      <td>15.687000</td>\n",
       "    </tr>\n",
       "    <tr>\n",
       "      <th>25%</th>\n",
       "      <td>11.895250</td>\n",
       "      <td>18.716750</td>\n",
       "    </tr>\n",
       "    <tr>\n",
       "      <th>50%</th>\n",
       "      <td>14.356500</td>\n",
       "      <td>21.017500</td>\n",
       "    </tr>\n",
       "    <tr>\n",
       "      <th>75%</th>\n",
       "      <td>16.200750</td>\n",
       "      <td>24.051500</td>\n",
       "    </tr>\n",
       "    <tr>\n",
       "      <th>max</th>\n",
       "      <td>22.328000</td>\n",
       "      <td>35.255000</td>\n",
       "    </tr>\n",
       "  </tbody>\n",
       "</table>\n",
       "</div>"
      ],
      "text/plain": [
       "       Congruent  Incongruent\n",
       "count  24.000000    24.000000\n",
       "mean   14.051125    22.015917\n",
       "std     3.559358     4.797057\n",
       "min     8.630000    15.687000\n",
       "25%    11.895250    18.716750\n",
       "50%    14.356500    21.017500\n",
       "75%    16.200750    24.051500\n",
       "max    22.328000    35.255000"
      ]
     },
     "execution_count": 98,
     "metadata": {},
     "output_type": "execute_result"
    }
   ],
   "source": [
    "# print out some quick stats about the data before we begin\n",
    "df.describe()"
   ]
  },
  {
   "cell_type": "markdown",
   "metadata": {},
   "source": [
    "### Questions For Investigation\n",
    "\n",
    "As a general note, be sure to keep a record of any resources that you use or refer to in the creation of your project. You will need to report your sources as part of the project submission."
   ]
  },
  {
   "cell_type": "markdown",
   "metadata": {},
   "source": [
    "### 1. What is our independent variable? What is our dependent variable?\n",
    "The **independant variable** is the color words whose names do not match the colors in which they are printed.  The incongruent words are the independant variable.\n",
    "\n",
    "OR\n",
    "\n",
    "The congruent and incongruent list of words are the independant variables.  We have two indenpendant variables for this experiment.\n",
    "\n",
    "\n",
    "The **dependant variable** is time it takes to say out loud the color of the ink in which the word is printed.\n",
    "\n",
    "Clarification of dependant variable:  The time it takes (seconds) to say the color of the ink for the color words for the congruent and incongruent list is what is being measured.  \n",
    "\n",
    "**[Notes]**  \n",
    "*An independent variable, sometimes called an experimental or predictor variable, is a variable that is being manipulated in an experiment in order to observe the effect on a dependent variable, sometimes called an outcome variable.*\n",
    " \n",
    "*The dependent variable is the variable being measured which is affected by the independent variable*\n",
    "\n",
    "Reference:\n",
    "[Laerd Statistics : Types of Variable](https://statistics.laerd.com/statistical-guides/types-of-variable.php)\n"
   ]
  },
  {
   "cell_type": "markdown",
   "metadata": {},
   "source": [
    "### 2. What is an appropriate set of hypotheses for this task? What kind of statistical test do you expect to perform? Justify your choices.\n",
    "\n",
    "##### Hypothesis\n",
    "The null hypothesis, for this experiment would be the time it takes to say the color of the ink in the congruent and incongruent lists takes approximately the same amount of time, on average.\n",
    "\n",
    "We need to check to see if there is a significant difference in the times to read aloud the color of the ink in the congurent and incongruent lists.\n",
    "\n",
    "**Types of Statistical Tests **\n",
    "The types of statistical test one can use depends on the type of data.  The data for the Stroop task is interval and relatively normal.  Our options are the following:\n",
    "\n",
    "- Two-Sample t-Test for Equal Means\n",
    "- Whitney test\n",
    "\n",
    "The Stroop Effect dataset is a good candidate for the Two Sample t-Test.\n",
    "\n",
    "[idre UCLA - What statistical analysis should I use?](http://www.ats.ucla.edu/stat/mult_pkg/whatstat/)     \n",
    "[NIST - What are statistical tests?](http://www.itl.nist.gov/div898/handbook/prc/section1/prc13.htm)  \n",
    "[Two-Sample t-Test for Equal Means](http://www.itl.nist.gov/div898/handbook/eda/section3/eda353.htm)  \n"
   ]
  },
  {
   "cell_type": "markdown",
   "metadata": {},
   "source": [
    "### 3. Report some descriptive statistics regarding this dataset. Include at least one measure of central tendency and at least one measure of variability.\n",
    "\n",
    "#### Central Tendency\n",
    "*Mean, Median, Mode, a histogram of both of the data sets measure the central tendency of a dataset.  The typical or middle value for the dataset.*\n",
    "\n",
    "The mean for the congruent list is 14.05 with a median of 14.36.  \n",
    "\n",
    "The mean for the incongruent list is 22.02 with a median of 21.02.\n",
    "\n",
    "[Laerd Statistics : Measure of Centrral Tendancy ](https://statistics.laerd.com/statistical-guides/measures-central-tendency-mean-mode-median.php)\n",
    "\n",
    "**Congruent Mean & Median **"
   ]
  },
  {
   "cell_type": "code",
   "execution_count": 4,
   "metadata": {
    "collapsed": false
   },
   "outputs": [
    {
     "name": "stdout",
     "output_type": "stream",
     "text": [
      "(14.051125000000004, 14.3565)\n"
     ]
    }
   ],
   "source": [
    "# Get the mean and median for the Congruent list\n",
    "c_mean = df['Congruent'].mean()\n",
    "c_median = df['Congruent'].median()\n",
    "\n",
    "# print Congruent results\n",
    "print(c_mean, c_median)\n",
    "#df['Congruent'].mode() - no mode exists - need more a"
   ]
  },
  {
   "cell_type": "markdown",
   "metadata": {},
   "source": [
    "**Incongruent Mean & Median**"
   ]
  },
  {
   "cell_type": "code",
   "execution_count": 5,
   "metadata": {
    "collapsed": false
   },
   "outputs": [
    {
     "name": "stdout",
     "output_type": "stream",
     "text": [
      "(22.01591666666667, 21.0175)\n"
     ]
    }
   ],
   "source": [
    "# Get the mean and median for the Incongruent list\n",
    "i_mean = df['Incongruent'].mean()\n",
    "i_median = df['Incongruent'].median()\n",
    "\n",
    "# print Congruent results\n",
    "print(i_mean, i_median)\n",
    "#df['Incongruent'].mode()"
   ]
  },
  {
   "cell_type": "markdown",
   "metadata": {},
   "source": [
    "**Histograms for Congruent and Incongruent Lists**  \n",
    "The histogram can help us visualize the central tendency and the mode for a dataset.  I have set the x axis to start at the same range for both histograms to show how the Incongruent List is right shifted on the x axis.\n"
   ]
  },
  {
   "cell_type": "code",
   "execution_count": 6,
   "metadata": {
    "collapsed": false
   },
   "outputs": [
    {
     "data": {
      "text/plain": [
       "<matplotlib.figure.Figure at 0x7fab83d9ca50>"
      ]
     },
     "execution_count": 6,
     "metadata": {},
     "output_type": "execute_result"
    },
    {
     "data": {
      "image/png": "[encoded data removed]",
      "text/plain": [
       "<matplotlib.figure.Figure at 0x7fab85b71f50>"
      ]
     },
     "metadata": {},
     "output_type": "display_data"
    },
    {
     "data": {
      "image/png": "[encoded data removed]",
      "text/plain": [
       "<matplotlib.figure.Figure at 0x7fab83e1b110>"
      ]
     },
     "metadata": {},
     "output_type": "display_data"
    },
    {
     "data": {
      "text/plain": [
       "<matplotlib.figure.Figure at 0x7fab83d9ca50>"
      ]
     },
     "metadata": {},
     "output_type": "display_data"
    }
   ],
   "source": [
    "# Histogram of Congruent List\n",
    "plt.hist(df['Congruent'], bins=8)\n",
    "plt.title(\"Histogram of Congruent List\")\n",
    "plt.xlabel(\"seconds\")\n",
    "plt.ylabel(\"Frequency\")\n",
    "plt.axis(xmin=5, xmax=40)\n",
    "# call plt.figure() so we get two distinct histograms\n",
    "plt.figure()\n",
    "\n",
    "# Histogram of Incongruent List\n",
    "plt.hist(df['Incongruent'], bins=8)\n",
    "plt.title(\"Histogram of Incongruent List\")\n",
    "plt.xlabel(\"seconds\")\n",
    "plt.ylabel(\"Frequency\")\n",
    "plt.axis(xmin=5, xmax=40)\n",
    "plt.figure()"
   ]
  },
  {
   "cell_type": "markdown",
   "metadata": {},
   "source": [
    "#### Measure of Variability?\n",
    "\n",
    "The seconds for the Congruent list are less spread out and more likely normally distributed than the incongruent list whose data is right shifted.   The Incongruent list has a larger mean then the Congruent list.\n",
    "\n",
    "Typically one can look at the range, quartiles and standard deviation to see the variability of the data."
   ]
  },
  {
   "cell_type": "markdown",
   "metadata": {},
   "source": [
    "**Range**\n",
    "Incongruent list has a larger range than the congruent list."
   ]
  },
  {
   "cell_type": "code",
   "execution_count": 7,
   "metadata": {
    "collapsed": false
   },
   "outputs": [
    {
     "name": "stdout",
     "output_type": "stream",
     "text": [
      "('Range of Congruent & Incongruent Lists', 13.698000000000002, 19.568000000000001)\n"
     ]
    }
   ],
   "source": [
    "dfStat = df.describe()\n",
    "# Range\n",
    "Congruent_R = dfStat['Congruent']['max'] - dfStat['Congruent']['min']\n",
    "Incongruent_R = dfStat['Incongruent']['max'] - dfStat['Incongruent']['min']\n",
    "print('Range of Congruent & Incongruent Lists',Congruent_R, Incongruent_R)"
   ]
  },
  {
   "cell_type": "markdown",
   "metadata": {},
   "source": [
    "\n",
    "**Interquartile Range (IQR)**  \n",
    "IQR = 75% - 25%  \n",
    "\n",
    "The data for the Incongruent IQR is slightly more spread out than the Congruent data."
   ]
  },
  {
   "cell_type": "code",
   "execution_count": 8,
   "metadata": {
    "collapsed": false
   },
   "outputs": [
    {
     "name": "stdout",
     "output_type": "stream",
     "text": [
      "('IQR of Congruent & Incongruent Lists', 4.3054999999999986, 5.3347499999999997)\n"
     ]
    }
   ],
   "source": [
    "# IQR\n",
    "cIQR = dfStat['Congruent']['75%'] - dfStat['Congruent']['25%']\n",
    "iIQR = dfStat['Incongruent']['75%'] - dfStat['Incongruent']['25%']\n",
    "print('IQR of Congruent & Incongruent Lists',cIQR,iIQR)"
   ]
  },
  {
   "cell_type": "markdown",
   "metadata": {},
   "source": [
    "**Standard Deviation of the Congruent and Incongruent Lists**  \n",
    "The Incongruent List has a larger standard deviation (1.35x larger than Congruent) so the values in the Incongruent list are spread farther out from the mean."
   ]
  },
  {
   "cell_type": "code",
   "execution_count": 9,
   "metadata": {
    "collapsed": false
   },
   "outputs": [
    {
     "data": {
      "text/html": [
       "<div>\n",
       "<table border=\"1\" class=\"dataframe\">\n",
       "  <thead>\n",
       "    <tr style=\"text-align: right;\">\n",
       "      <th></th>\n",
       "      <th>Congruent</th>\n",
       "      <th>Incongruent</th>\n",
       "    </tr>\n",
       "  </thead>\n",
       "  <tbody>\n",
       "    <tr>\n",
       "      <th>std</th>\n",
       "      <td>3.559358</td>\n",
       "      <td>4.797057</td>\n",
       "    </tr>\n",
       "  </tbody>\n",
       "</table>\n",
       "</div>"
      ],
      "text/plain": [
       "     Congruent  Incongruent\n",
       "std   3.559358     4.797057"
      ]
     },
     "execution_count": 9,
     "metadata": {},
     "output_type": "execute_result"
    }
   ],
   "source": [
    "dfStat.iloc[[2]]"
   ]
  },
  {
   "cell_type": "markdown",
   "metadata": {},
   "source": [
    "### 4. Provide one or two visualizations that show the distribution of the sample data. Write one or two sentences noting what you observe about the plot or plots.\n",
    "\n",
    "Distribution plots are typically:  \n",
    "- Histograms \n",
    "- Density\n",
    "- Box\n",
    "\n",
    "#### Histograms"
   ]
  },
  {
   "cell_type": "code",
   "execution_count": 11,
   "metadata": {
    "collapsed": false
   },
   "outputs": [
    {
     "data": {
      "text/plain": [
       "array([[<matplotlib.axes._subplots.AxesSubplot object at 0x7fab83e7b310>,\n",
       "        <matplotlib.axes._subplots.AxesSubplot object at 0x7fab83c0b050>]], dtype=object)"
      ]
     },
     "execution_count": 11,
     "metadata": {},
     "output_type": "execute_result"
    },
    {
     "data": {
      "image/png": "[encoded data removed]",
      "text/plain": [
       "<matplotlib.figure.Figure at 0x7fab83ba8650>"
      ]
     },
     "metadata": {},
     "output_type": "display_data"
    }
   ],
   "source": [
    "# Quick print of simple histograms\n",
    "df.hist(bins=8,figsize=(10, 4))"
   ]
  },
  {
   "cell_type": "markdown",
   "metadata": {},
   "source": [
    "The Congruent dataset is more likely normal than the incongruent dataset which seems to be skewed to the left, which is *postively skewed*."
   ]
  },
  {
   "cell_type": "code",
   "execution_count": 12,
   "metadata": {
    "collapsed": false
   },
   "outputs": [
    {
     "data": {
      "text/plain": [
       "<matplotlib.text.Text at 0x7fab83ac1c50>"
      ]
     },
     "execution_count": 12,
     "metadata": {},
     "output_type": "execute_result"
    },
    {
     "data": {
      "image/png": "[encoded data removed]",
      "text/plain": [
       "<matplotlib.figure.Figure at 0x7fab83a2ce50>"
      ]
     },
     "metadata": {},
     "output_type": "display_data"
    }
   ],
   "source": [
    "# Let's stack the histograms\n",
    "df.plot(kind='hist', alpha=0.5)\n",
    "plt.xlabel('seconds')\n",
    "plt.ylabel('Frequency')"
   ]
  },
  {
   "cell_type": "markdown",
   "metadata": {},
   "source": [
    "Stacking demonstrates the overlapping between the two datasets and how each is distrubted comparitively.  We can see over lapping occuring approximately around at 15 to 25 seconds with in a low frequency until we are approximately at 17.5 seconds where the freqeuncy is the highest (when overlapped) for both list at frequency of 4.\n",
    "\n",
    "One can visually see it takes the sample population more time to read the color of the ink of the words for the incongruent list."
   ]
  },
  {
   "cell_type": "markdown",
   "metadata": {},
   "source": [
    "#### Density"
   ]
  },
  {
   "cell_type": "code",
   "execution_count": 13,
   "metadata": {
    "collapsed": false
   },
   "outputs": [
    {
     "data": {
      "text/plain": [
       "<matplotlib.axes._subplots.AxesSubplot at 0x7fab83957ed0>"
      ]
     },
     "execution_count": 13,
     "metadata": {},
     "output_type": "execute_result"
    },
    {
     "data": {
      "image/png": "[encoded data removed]",
      "text/plain": [
       "<matplotlib.figure.Figure at 0x7fab83ca8250>"
      ]
     },
     "metadata": {},
     "output_type": "display_data"
    }
   ],
   "source": [
    "# this uses pyplot - fyi instead of the ggplot2\n",
    "df.plot(kind='kde')"
   ]
  },
  {
   "cell_type": "markdown",
   "metadata": {},
   "source": [
    "The curves are similar with the exception of the right shifted Incongruent curve due to the Stroop effect.  We can see the Incongruent normalized curve has a bump out to the right, due to the outliers.\n",
    "\n",
    "> \"In statistics, kernel density estimation (KDE) is a non-parametric way to estimate the probability density function of a random variable. Kernel density estimation is a fundamental data smoothing problem where inferences about the population are made, based on a finite data sample.\"\n",
    "\n",
    "[Wikipedia - Kernal Density Estimation](https://en.wikipedia.org/wiki/Kernel_density_estimation)\n"
   ]
  },
  {
   "cell_type": "markdown",
   "metadata": {},
   "source": [
    "#### Combined Histogram and Normalized Plot\n"
   ]
  },
  {
   "cell_type": "code",
   "execution_count": 92,
   "metadata": {
    "collapsed": false
   },
   "outputs": [
    {
     "data": {
      "text/plain": [
       "<matplotlib.figure.Figure at 0x7fab80ed2f90>"
      ]
     },
     "execution_count": 92,
     "metadata": {},
     "output_type": "execute_result"
    },
    {
     "data": {
      "image/png": "[encoded data removed]",
      "text/plain": [
       "<matplotlib.figure.Figure at 0x7fab81964b50>"
      ]
     },
     "metadata": {},
     "output_type": "display_data"
    },
    {
     "data": {
      "text/plain": [
       "<matplotlib.figure.Figure at 0x7fab80ed2f90>"
      ]
     },
     "metadata": {},
     "output_type": "display_data"
    }
   ],
   "source": [
    "# Steps, to plot the normalized data  \n",
    "# 1. sort the column ascending for the data \n",
    "# 2. pdf - apply the probability density function using the \n",
    "#      mean and standard deviation to new dataframe\n",
    "#      http://docs.scipy.org/doc/scipy/reference/generated/scipy.stats.norm.html\n",
    "# 3. plot the sorted seconds, along with the pdf\n",
    "# 4. plot the histogram\n",
    "# Incongruent = Greens\n",
    "incog = df.sort(['Incongruent'], ascending=[1])\n",
    "ifit = stats.norm.pdf(incog['Incongruent'], np.mean(incog['Incongruent']), np.std(incog['Incongruent']))\n",
    "plt.plot(incog['Incongruent'],ifit,'-o',label='Incongruent', color='g')\n",
    "plt.hist(incog['Incongruent'], bins=8, normed=True, alpha=0.25, label='Incongruent',color='g')\n",
    "\n",
    "#Congruent - Blues\n",
    "cog = df.sort(['Congruent'], ascending=[1])\n",
    "cfit = stats.norm.pdf(cog['Congruent'], np.mean(cog['Congruent']), np.std(cog['Congruent']))\n",
    "plt.plot(cog['Congruent'],cfit,'-o',label='Congruent',color='b')\n",
    "plt.hist(cog['Congruent'], bins=8, normed=True, alpha=0.45, label='Congruent',color='b')\n",
    "plt.title('Stoop Effect')\n",
    "plt.xlabel('seconds')\n",
    "plt.ylabel('Density')\n",
    "plt.legend(loc='best', frameon=False)\n",
    "# resize to show the distribution of the data\n",
    "plt.figure(figsize(10,5))\n"
   ]
  },
  {
   "cell_type": "markdown",
   "metadata": {},
   "source": [
    "This plot shows the effect of interference when the subject 'says' the color of ink when the word color is different than the ink color.   The goal here is to view the central tendency and variabilty in one plot."
   ]
  },
  {
   "cell_type": "markdown",
   "metadata": {},
   "source": [
    "#### Box Plots"
   ]
  },
  {
   "cell_type": "code",
   "execution_count": 14,
   "metadata": {
    "collapsed": false
   },
   "outputs": [
    {
     "data": {
      "text/plain": [
       "<matplotlib.text.Text at 0x7fab83770790>"
      ]
     },
     "execution_count": 14,
     "metadata": {},
     "output_type": "execute_result"
    },
    {
     "data": {
      "image/png": "[encoded data removed]",
      "text/plain": [
       "<matplotlib.figure.Figure at 0x7fab83767d10>"
      ]
     },
     "metadata": {},
     "output_type": "display_data"
    }
   ],
   "source": [
    "# print out simple box plot\n",
    "df.plot(kind='box', figsize=(10,6))\n",
    "plt.title('Box Plot of the Stroop Lists')\n",
    "plt.ylabel(\"seconds\")"
   ]
  },
  {
   "cell_type": "markdown",
   "metadata": {},
   "source": [
    "Box plots show us the spread of the data, using the quartiles, median and the min and max points as well as the outliers for the data.  We can see above the Incongruent data has outliers around 35 seconds.\n",
    "\n",
    "One can visually see it takes the sample population more time to read the color of the ink of the words for the incongruent list with the box plot.  We can even quickly see the medians are much different as well as the ranges for the congruent and incongruent datasets.\n",
    "\n",
    "The data seems to be leading us to say it takes more time for a subject to say the color of the ink out loud when the color word is different than the color."
   ]
  },
  {
   "cell_type": "markdown",
   "metadata": {},
   "source": [
    "### 5. Now, perform the statistical test and report your results. What is your confidence level and your critical statistic value? Do you reject the null hypothesis or fail to reject it? Come to a conclusion in terms of the experiment task. Did the results match up with your expectations?"
   ]
  },
  {
   "cell_type": "markdown",
   "metadata": {},
   "source": [
    "#### T Test\n",
    "\n",
    "> We can use this test, if we observe two independent samples from the same or different population, e.g. exam scores of boys and girls or of two ethnic groups. The test measures whether the average (expected) value differs significantly across samples. If we observe a large p-value, for example larger than 0.05 or 0.1, then we cannot reject the null hypothesis of identical average scores. If the p-value is smaller than the threshold, e.g. 1%, 5% or 10%, then we reject the null hypothesis.\n",
    "\n",
    "We have 24 samples, so we have 23 degrees of freedom (I think).\n",
    "\n",
    "t statistic  = (xbar - mean) / (sd / sqrt(24))\n",
    "\n",
    "#### Confidence Interval\n",
    "http://www.itl.nist.gov/div898/handbook/eda/section3/eda352.htm\n",
    "\n",
    "Confidence Interval Example\tWe generated a 95 %, two-sided confidence interval for the ZARR13.DAT data set based on the following information.  \n",
    "N                          = 195  \n",
    "MEAN                       =   9.261460  \n",
    "STANDARD DEVIATION         =   0.022789  \n",
    "t1-0.025,N-1                 =   1.9723  \n",
    "\n",
    "LOWER LIMIT = 9.261460 - 1.9723*0.022789/√195  \n",
    "UPPER LIMIT = 9.261460 + 1.9723*0.022789/√195   \n",
    "Thus, a 95 % confidence interval for the mean is (9.258242, 9.264679).  \n",
    "\n",
    "##### Critical Statistic Value\n",
    "\n",
    "\n",
    "\n",
    "\n",
    "[scipy.stats.ttest_ind](http://docs.scipy.org/doc/scipy/reference/generated/scipy.stats.ttest_ind.html)"
   ]
  },
  {
   "cell_type": "code",
   "execution_count": 15,
   "metadata": {
    "collapsed": false
   },
   "outputs": [
    {
     "data": {
      "text/plain": [
       "(-6.5322505539032285, 4.5949489622951854e-08)"
      ]
     },
     "execution_count": 15,
     "metadata": {},
     "output_type": "execute_result"
    }
   ],
   "source": [
    "ttest_ind(df['Congruent'], df['Incongruent'])"
   ]
  },
  {
   "cell_type": "markdown",
   "metadata": {},
   "source": [
    "The p value < 0.05 we can reject the null hypothesis of equal averages."
   ]
  },
  {
   "cell_type": "code",
   "execution_count": 16,
   "metadata": {
    "collapsed": false
   },
   "outputs": [
    {
     "data": {
      "text/plain": [
       "(-6.5322505539032285, 6.5101673904426379e-08)"
      ]
     },
     "execution_count": 16,
     "metadata": {},
     "output_type": "execute_result"
    }
   ],
   "source": [
    "# equal_var : bool, optional\n",
    "# If True (default), perform a standard independent 2 sample test \n",
    "# that assumes equal population variances [R368]. \n",
    "# If False, perform Welch’s t-test, which does not assume equal population variance\n",
    "ttest_ind(df['Congruent'], df['Incongruent'],equal_var = False)"
   ]
  },
  {
   "cell_type": "markdown",
   "metadata": {},
   "source": [
    "#### Anova"
   ]
  },
  {
   "cell_type": "code",
   "execution_count": 18,
   "metadata": {
    "collapsed": false
   },
   "outputs": [
    {
     "data": {
      "text/plain": [
       "(42.670297298968549, 4.5949489622957869e-08)"
      ]
     },
     "execution_count": 18,
     "metadata": {},
     "output_type": "execute_result"
    }
   ],
   "source": [
    "f_value, p_value = f_oneway(df['Congruent'], df['Incongruent'])\n",
    "f_value, p_value"
   ]
  },
  {
   "cell_type": "markdown",
   "metadata": {},
   "source": [
    "#### Mann-Whitney\n",
    "Returns:  \n",
    "statistic : float  \n",
    "The Mann-Whitney statistics.    \n",
    "pvalue : float   \n",
    "One-sided p-value assuming a asymptotic normal distribution.  \n",
    "\n",
    "[scipy.stats.mannwhitneyu](http://docs.scipy.org/doc/scipy/reference/generated/scipy.stats.mannwhitneyu.html)"
   ]
  },
  {
   "cell_type": "code",
   "execution_count": 17,
   "metadata": {
    "collapsed": false
   },
   "outputs": [
    {
     "data": {
      "text/plain": [
       "(37.0, 1.2007625250896612e-07)"
      ]
     },
     "execution_count": 17,
     "metadata": {},
     "output_type": "execute_result"
    }
   ],
   "source": [
    "stats.mannwhitneyu(df['Congruent'], df['Incongruent'], use_continuity=True)"
   ]
  },
  {
   "cell_type": "markdown",
   "metadata": {},
   "source": [
    "### 6. What do you think is responsible for the effects observed? \n",
    "\n",
    "Our damn brains.  Does it affect subjects with color blindness?\n",
    "\n",
    "### Can you think of an alternative or similar task that would result in a similar effect? Some research about the problem will be helpful for thinking about these two questions!\n",
    "\n",
    "Not yet.   What does the brain see vs what we say?   Maybe dyslexia is a form of this because the brain flips letters and numbers around... "
   ]
  },
  {
   "cell_type": "markdown",
   "metadata": {},
   "source": [
    "## References\n",
    "\n",
    "[Pandas Documentation](http://pandas.pydata.org/pandas-docs/version/0.15.0/visualization.html)\n",
    "\n",
    "[Wikiepdia - The Stroop Effect](https://en.wikipedia.org/wiki/Stroop_effect)\n"
   ]
  },
  {
   "cell_type": "markdown",
   "metadata": {},
   "source": [
    "Chart Examples - Used to help review and create/modify existing charts in this project."
   ]
  },
  {
   "cell_type": "code",
   "execution_count": 94,
   "metadata": {
    "collapsed": false
   },
   "outputs": [
    {
     "data": {
      "image/png": "[encoded data removed]",
      "text/plain": [
       "<matplotlib.figure.Figure at 0x7fab809d5850>"
      ]
     },
     "metadata": {},
     "output_type": "display_data"
    }
   ],
   "source": [
    "# http://docs.scipy.org/doc/scipy/reference/generated/scipy.stats.norm.html\n",
    "# Example of another normalized curve using pdf\n",
    "fig, ax = plt.subplots(1, 1)\n",
    "\n",
    "mean, var, skew, kurt = stats.norm.stats(moments='mvsk')\n",
    "\n",
    "x = np.linspace(stats.norm.ppf(0.01),stats.norm.ppf(0.99), 100)\n",
    "ax.plot(x, stats.norm.pdf(x),'r-', lw=5, alpha=0.6, label='norm pdf')\n",
    "\n",
    "rv = stats.norm()\n",
    "ax.plot(x, rv.pdf(x), 'k-', lw=2, label='frozen pdf')\n",
    "\n",
    "\n",
    "vals = stats.norm.ppf([0.001, 0.5, 0.999])\n",
    "np.allclose([0.001, 0.5, 0.999], stats.norm.cdf(vals))\n",
    "r = stats.norm.rvs(size=1000)\n",
    "ax.hist(r, normed=True, histtype='stepfilled', alpha=0.2)\n",
    "ax.legend(loc='best', frameon=False)\n",
    "plt.show()"
   ]
  },
  {
   "cell_type": "code",
   "execution_count": 93,
   "metadata": {
    "collapsed": false
   },
   "outputs": [
    {
     "data": {
      "image/png": "[encoded data removed]",
      "text/plain": [
       "<matplotlib.figure.Figure at 0x7fab813a7bd0>"
      ]
     },
     "metadata": {},
     "output_type": "display_data"
    }
   ],
   "source": [
    "# http://stackoverflow.com/questions/14762181/adding-a-y-axis-label-to-secondary-y-axis-in-matplotlib\n",
    "# Example of plotting a secondary y axis\n",
    "x = np.arange(0, 10, 0.1)\n",
    "y1 = 0.05 * x**2\n",
    "y2 = -1 *y1\n",
    "\n",
    "fig, ax1 = plt.subplots()\n",
    "\n",
    "ax2 = ax1.twinx()\n",
    "ax1.plot(x, y1, 'g-')\n",
    "ax2.plot(x, y2, 'b-')\n",
    "\n",
    "ax1.set_xlabel('X data')\n",
    "ax1.set_ylabel('Y1 data', color='g')\n",
    "ax2.set_ylabel('Y2 data', color='b')\n",
    "\n",
    "plt.show()"
   ]
  },
  {
   "cell_type": "code",
   "execution_count": null,
   "metadata": {
    "collapsed": true
   },
   "outputs": [],
   "source": []
  }
 ],
 "metadata": {
  "kernelspec": {
   "display_name": "Python 2",
   "language": "python",
   "name": "python2"
  },
  "language_info": {
   "codemirror_mode": {
    "name": "ipython",
    "version": 2
   },
   "file_extension": ".py",
   "mimetype": "text/x-python",
   "name": "python",
   "nbconvert_exporter": "python",
   "pygments_lexer": "ipython2",
   "version": "2.7.10"
  }
 },
 "nbformat": 4,
 "nbformat_minor": 0
}
