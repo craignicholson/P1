{
 "cells": [
  {
   "cell_type": "markdown",
   "metadata": {},
   "source": [
    "# Test a Perceptual Phenomenon\n",
    "\n",
    "\n",
    "Craig Nicholson  \n",
    "September 4, 2015\n",
    "* * *\n",
    "\n",
    "In this project, you will investigate a classic phenomenon from experimental psychology called the Stroop Effect. You will learn a little bit about the experiment, create a hypothesis regarding the outcome of the task, then go through the task yourself. You will then look at some data collected from others who have performed the same task and will compute some statistics describing the results. Finally, you will interpret your results in terms of your hypotheses."
   ]
  },
  {
   "cell_type": "markdown",
   "metadata": {},
   "source": [
    "## Statistics: The Science of Decisions Project Instructions\n",
    "\n",
    "### Background Information\n",
    "\n",
    "In a Stroop task, participants are presented with a list of words, with each word displayed in a color of ink. The participant’s task is to say out loud the color of the ink in which the word is printed. The task has two conditions: a **congruent** words condition, and an **incongruent** words condition. In the congruent words condition, the words being displayed are color words whose names match the colors in which they are printed: for example RED, BLUE. In the incongruent words condition, the words displayed are color words whose names do not match the colors in which they are printed: for example PURPLE, ORANGE. In each case, we measure the time it takes to name the ink colors in equally-sized lists. Each participant will go through and record a time from each condition."
   ]
  },
  {
   "cell_type": "markdown",
   "metadata": {},
   "source": [
    "### Imports"
   ]
  },
  {
   "cell_type": "code",
   "execution_count": 1,
   "metadata": {
    "collapsed": false
   },
   "outputs": [],
   "source": [
    "import pandas as pd\n",
    "import scipy.stats as stats\n",
    "import statsmodels as sm\n",
    "from scipy.stats import ttest_ind\n",
    "from scipy.stats import f_oneway\n",
    "from scipy.stats import kruskal\n",
    "from statsmodels.stats.multicomp import (pairwise_tukeyhsd,\n",
    "                                         MultiComparison)"
   ]
  },
  {
   "cell_type": "code",
   "execution_count": 2,
   "metadata": {
    "collapsed": false
   },
   "outputs": [
    {
     "name": "stdout",
     "output_type": "stream",
     "text": [
      "Populating the interactive namespace from numpy and matplotlib\n"
     ]
    }
   ],
   "source": [
    "# display plot within the notebook rather than a new window\n",
    "%pylab inline\n",
    "\n",
    "import matplotlib.pyplot as plt"
   ]
  },
  {
   "cell_type": "markdown",
   "metadata": {},
   "source": [
    "### Load the data"
   ]
  },
  {
   "cell_type": "code",
   "execution_count": 3,
   "metadata": {
    "collapsed": false
   },
   "outputs": [
    {
     "data": {
      "text/html": [
       "<div>\n",
       "<table border=\"1\" class=\"dataframe\">\n",
       "  <thead>\n",
       "    <tr style=\"text-align: right;\">\n",
       "      <th></th>\n",
       "      <th>Congruent</th>\n",
       "      <th>Incongruent</th>\n",
       "    </tr>\n",
       "  </thead>\n",
       "  <tbody>\n",
       "    <tr>\n",
       "      <th>0</th>\n",
       "      <td>12.079</td>\n",
       "      <td>19.278</td>\n",
       "    </tr>\n",
       "    <tr>\n",
       "      <th>1</th>\n",
       "      <td>16.791</td>\n",
       "      <td>18.741</td>\n",
       "    </tr>\n",
       "    <tr>\n",
       "      <th>2</th>\n",
       "      <td>9.564</td>\n",
       "      <td>21.214</td>\n",
       "    </tr>\n",
       "    <tr>\n",
       "      <th>3</th>\n",
       "      <td>8.630</td>\n",
       "      <td>15.687</td>\n",
       "    </tr>\n",
       "    <tr>\n",
       "      <th>4</th>\n",
       "      <td>14.669</td>\n",
       "      <td>22.803</td>\n",
       "    </tr>\n",
       "  </tbody>\n",
       "</table>\n",
       "</div>"
      ],
      "text/plain": [
       "   Congruent  Incongruent\n",
       "0     12.079       19.278\n",
       "1     16.791       18.741\n",
       "2      9.564       21.214\n",
       "3      8.630       15.687\n",
       "4     14.669       22.803"
      ]
     },
     "execution_count": 3,
     "metadata": {},
     "output_type": "execute_result"
    }
   ],
   "source": [
    "# load the stroopdata.csv\n",
    "path = '~/Downloads/P1/stroopdata.csv'\n",
    "df = pd.read_csv(path)\n",
    "# show a 5 records\n",
    "df.head(n=5)"
   ]
  },
  {
   "cell_type": "markdown",
   "metadata": {},
   "source": [
    "Display a variety of summary statistics about the columns of a DataFrame (excluding NAs of course)."
   ]
  },
  {
   "cell_type": "code",
   "execution_count": 4,
   "metadata": {
    "collapsed": false,
    "scrolled": true
   },
   "outputs": [
    {
     "data": {
      "text/html": [
       "<div>\n",
       "<table border=\"1\" class=\"dataframe\">\n",
       "  <thead>\n",
       "    <tr style=\"text-align: right;\">\n",
       "      <th></th>\n",
       "      <th>Congruent</th>\n",
       "      <th>Incongruent</th>\n",
       "    </tr>\n",
       "  </thead>\n",
       "  <tbody>\n",
       "    <tr>\n",
       "      <th>count</th>\n",
       "      <td>24.000000</td>\n",
       "      <td>24.000000</td>\n",
       "    </tr>\n",
       "    <tr>\n",
       "      <th>mean</th>\n",
       "      <td>14.051125</td>\n",
       "      <td>22.015917</td>\n",
       "    </tr>\n",
       "    <tr>\n",
       "      <th>std</th>\n",
       "      <td>3.559358</td>\n",
       "      <td>4.797057</td>\n",
       "    </tr>\n",
       "    <tr>\n",
       "      <th>min</th>\n",
       "      <td>8.630000</td>\n",
       "      <td>15.687000</td>\n",
       "    </tr>\n",
       "    <tr>\n",
       "      <th>25%</th>\n",
       "      <td>11.895250</td>\n",
       "      <td>18.716750</td>\n",
       "    </tr>\n",
       "    <tr>\n",
       "      <th>50%</th>\n",
       "      <td>14.356500</td>\n",
       "      <td>21.017500</td>\n",
       "    </tr>\n",
       "    <tr>\n",
       "      <th>75%</th>\n",
       "      <td>16.200750</td>\n",
       "      <td>24.051500</td>\n",
       "    </tr>\n",
       "    <tr>\n",
       "      <th>max</th>\n",
       "      <td>22.328000</td>\n",
       "      <td>35.255000</td>\n",
       "    </tr>\n",
       "  </tbody>\n",
       "</table>\n",
       "</div>"
      ],
      "text/plain": [
       "       Congruent  Incongruent\n",
       "count  24.000000    24.000000\n",
       "mean   14.051125    22.015917\n",
       "std     3.559358     4.797057\n",
       "min     8.630000    15.687000\n",
       "25%    11.895250    18.716750\n",
       "50%    14.356500    21.017500\n",
       "75%    16.200750    24.051500\n",
       "max    22.328000    35.255000"
      ]
     },
     "execution_count": 4,
     "metadata": {},
     "output_type": "execute_result"
    }
   ],
   "source": [
    "# print out some quick stats about the data before we begin\n",
    "df.describe()"
   ]
  },
  {
   "cell_type": "markdown",
   "metadata": {},
   "source": [
    "### Questions For Investigation\n",
    "\n",
    "As a general note, be sure to keep a record of any resources that you use or refer to in the creation of your project. You will need to report your sources as part of the project submission."
   ]
  },
  {
   "cell_type": "markdown",
   "metadata": {},
   "source": [
    "### 1. What is our independent variable? What is our dependent variable?\n",
    "The **independant variable** is the word list. We vary the word list by having the color of the ink match the color of the 'word' and the the opposite, where the color or the ink does not match the color of the word.\n",
    "\n",
    "\n",
    "The **dependant variable** is time it takes to say out loud the color of the ink in which the word is printed.\n",
    "\n",
    "Clarification of dependant variable:  The time it takes (seconds) to say the color of the ink for the color words for the congruent and incongruent list is what is being measured.  \n",
    "\n",
    "**[Notes]**  \n",
    "*An independent variable, sometimes called an experimental or predictor variable, is a variable that is being manipulated in an experiment in order to observe the effect on a dependent variable, sometimes called an outcome variable.*\n",
    " \n",
    "*The dependent variable is the variable being measured which is affected by the independent variable*\n",
    "\n",
    "Reference:\n",
    "[Laerd Statistics : Types of Variable](https://statistics.laerd.com/statistical-guides/types-of-variable.php)\n"
   ]
  },
  {
   "cell_type": "markdown",
   "metadata": {},
   "source": [
    "### 2. What is an appropriate set of hypotheses for this task? What kind of statistical test do you expect to perform? Justify your choices.\n",
    "\n",
    "##### Hypothesis\n",
    "The null hypothesis, for this experiment would be the time it takes to say the color of the ink in the word lists takes approximately the same amount of time, on average.\n",
    "\n",
    "We need to check to see if there is a significant difference in the times to read aloud the color of the ink in the word lists.\n",
    "\n",
    "**Types of Statistical Tests **\n",
    "The types of statistical test one can use depends on the type of data.  The data for the Stroop task is interval and relatively normal.  Our options are the following:\n",
    "\n",
    "- paired t-test  \n",
    "Tests whether the mean of the differences between dependent or paired observations is equal to a target value\n",
    "http://support.minitab.com/en-us/minitab/17/topic-library/basic-statistics-and-graphs/hypothesis-tests/tests-of-means/why-use-paired-t/\n",
    "\n",
    "\n",
    "- Z test  \n",
    "The Z test requires a sample size approximately greater than of equal 30 (n>=30).\n",
    "\n",
    "\n",
    "** References**\n",
    "\n",
    "[idre UCLA - What statistical analysis should I use?](http://www.ats.ucla.edu/stat/mult_pkg/whatstat/)     \n",
    "[NIST - What are statistical tests?](http://www.itl.nist.gov/div898/handbook/prc/section1/prc13.htm)  \n",
    "[Two-Sample t-Test for Equal Means](http://www.itl.nist.gov/div898/handbook/eda/section3/eda353.htm) \n",
    "\n",
    "http://support.minitab.com/en-us/minitab/17/topic-library/basic-statistics-and-graphs/hypothesis-tests/tests-of-means/types-of-t-tests/\n",
    "\n",
    "\n"
   ]
  },
  {
   "cell_type": "markdown",
   "metadata": {},
   "source": [
    "### 3. Report some descriptive statistics regarding this dataset. Include at least one measure of central tendency and at least one measure of variability.\n",
    "\n",
    "#### Central Tendency\n",
    "*Mean, Median, Mode, a histogram of both of the data sets measure the central tendency of a dataset.  The typical or middle value for the dataset.*\n",
    "\n",
    "The mean for the congruent list is 14.05 with a median of 14.36.  \n",
    "\n",
    "The mean for the incongruent list is 22.02 with a median of 21.02.\n",
    "\n",
    "[Laerd Statistics : Measure of Centrral Tendancy ](https://statistics.laerd.com/statistical-guides/measures-central-tendency-mean-mode-median.php)\n",
    "\n",
    "**Congruent Mean & Median **"
   ]
  },
  {
   "cell_type": "code",
   "execution_count": 5,
   "metadata": {
    "collapsed": false
   },
   "outputs": [
    {
     "name": "stdout",
     "output_type": "stream",
     "text": [
      "Mean:\t14.051125\n",
      "Median:\t14.3565\n"
     ]
    }
   ],
   "source": [
    "# Get the mean and median for the Congruent list\n",
    "c_mean = df['Congruent'].mean()\n",
    "c_median = df['Congruent'].median()\n",
    "\n",
    "# print Congruent results\n",
    "print 'Mean:\\t' + str(c_mean)\n",
    "print 'Median:\\t' + str(c_median)\n"
   ]
  },
  {
   "cell_type": "markdown",
   "metadata": {},
   "source": [
    "**Incongruent Mean & Median**"
   ]
  },
  {
   "cell_type": "code",
   "execution_count": 6,
   "metadata": {
    "collapsed": false
   },
   "outputs": [
    {
     "name": "stdout",
     "output_type": "stream",
     "text": [
      "Mean:\t22.0159166667\n",
      "Median:\t21.0175\n"
     ]
    }
   ],
   "source": [
    "# Get the mean and median for the Incongruent list\n",
    "i_mean = df['Incongruent'].mean()\n",
    "i_median = df['Incongruent'].median()\n",
    "\n",
    "# print Congruent results\n",
    "print 'Mean:\\t' + str(i_mean)\n",
    "print 'Median:\\t' + str(i_median)"
   ]
  },
  {
   "cell_type": "markdown",
   "metadata": {},
   "source": [
    "**Histograms for Congruent and Incongruent Lists**  \n",
    "The histogram can help us visualize the central tendency and the mode for a dataset.  I have set the x axis to start at the same range for both histograms to show how the Incongruent List is right shifted on the x axis.\n"
   ]
  },
  {
   "cell_type": "code",
   "execution_count": 7,
   "metadata": {
    "collapsed": false
   },
   "outputs": [
    {
     "data": {
      "text/plain": [
       "<matplotlib.figure.Figure at 0x7f7758911a90>"
      ]
     },
     "execution_count": 7,
     "metadata": {},
     "output_type": "execute_result"
    },
    {
     "data": {
      "image/png": "[encoded data removed]",
      "text/plain": [
       "<matplotlib.figure.Figure at 0x7f7758a42d90>"
      ]
     },
     "metadata": {},
     "output_type": "display_data"
    },
    {
     "data": {
      "image/png": "[encoded data removed]",
      "text/plain": [
       "<matplotlib.figure.Figure at 0x7f7758980f10>"
      ]
     },
     "metadata": {},
     "output_type": "display_data"
    },
    {
     "data": {
      "text/plain": [
       "<matplotlib.figure.Figure at 0x7f7758911a90>"
      ]
     },
     "metadata": {},
     "output_type": "display_data"
    }
   ],
   "source": [
    "# Histogram of Congruent List\n",
    "plt.hist(df['Congruent'], bins=8)\n",
    "plt.title(\"Histogram of Congruent List\")\n",
    "plt.xlabel(\"seconds\")\n",
    "plt.ylabel(\"Frequency\")\n",
    "plt.axis(xmin=5, xmax=40)\n",
    "# call plt.figure() so we get two distinct histograms\n",
    "plt.figure()\n",
    "\n",
    "# Histogram of Incongruent List\n",
    "plt.hist(df['Incongruent'], bins=8)\n",
    "plt.title(\"Histogram of Incongruent List\")\n",
    "plt.xlabel(\"seconds\")\n",
    "plt.ylabel(\"Frequency\")\n",
    "plt.axis(xmin=5, xmax=40)\n",
    "plt.figure()"
   ]
  },
  {
   "cell_type": "markdown",
   "metadata": {},
   "source": [
    "#### Measure of Variability?\n",
    "\n",
    "The seconds for the Congruent list are less spread out and more likely normally distributed than the incongruent list whose data is right shifted.   The Incongruent list has a larger mean then the Congruent list.\n",
    "\n",
    "Typically one can look at the range, quartiles and standard deviation to see the variability of the data."
   ]
  },
  {
   "cell_type": "markdown",
   "metadata": {},
   "source": [
    "**Range**\n",
    "Incongruent list has a larger range than the congruent list."
   ]
  },
  {
   "cell_type": "code",
   "execution_count": 8,
   "metadata": {
    "collapsed": false
   },
   "outputs": [
    {
     "name": "stdout",
     "output_type": "stream",
     "text": [
      "('Range of Congruent & Incongruent Lists', 13.698000000000002, 19.568000000000001)\n"
     ]
    }
   ],
   "source": [
    "dfStat = df.describe()\n",
    "# Range\n",
    "Congruent_R = dfStat['Congruent']['max'] - dfStat['Congruent']['min']\n",
    "Incongruent_R = dfStat['Incongruent']['max'] - dfStat['Incongruent']['min']\n",
    "print('Range of Congruent & Incongruent Lists',Congruent_R, Incongruent_R)"
   ]
  },
  {
   "cell_type": "markdown",
   "metadata": {},
   "source": [
    "\n",
    "**Interquartile Range (IQR)**  \n",
    "IQR = 75% - 25%  \n",
    "\n",
    "The data for the Incongruent IQR is slightly more spread out than the Congruent data."
   ]
  },
  {
   "cell_type": "code",
   "execution_count": 9,
   "metadata": {
    "collapsed": false
   },
   "outputs": [
    {
     "name": "stdout",
     "output_type": "stream",
     "text": [
      "IQR of Congruent :\t4.3055\n",
      "IQR of Incongruent:\t5.33475\n"
     ]
    }
   ],
   "source": [
    "# IQR\n",
    "cIQR = dfStat['Congruent']['75%'] - dfStat['Congruent']['25%']\n",
    "iIQR = dfStat['Incongruent']['75%'] - dfStat['Incongruent']['25%']\n",
    "print 'IQR of Congruent :\\t' + str(cIQR)\n",
    "print 'IQR of Incongruent:\\t' + str(iIQR)\n"
   ]
  },
  {
   "cell_type": "markdown",
   "metadata": {},
   "source": [
    "**Standard Deviation of the Congruent and Incongruent Lists**  \n",
    "The Incongruent List has a larger standard deviation (1.35x larger than Congruent) so the values in the Incongruent list are spread farther out from the mean."
   ]
  },
  {
   "cell_type": "code",
   "execution_count": 10,
   "metadata": {
    "collapsed": false
   },
   "outputs": [
    {
     "data": {
      "text/html": [
       "<div>\n",
       "<table border=\"1\" class=\"dataframe\">\n",
       "  <thead>\n",
       "    <tr style=\"text-align: right;\">\n",
       "      <th></th>\n",
       "      <th>Congruent</th>\n",
       "      <th>Incongruent</th>\n",
       "    </tr>\n",
       "  </thead>\n",
       "  <tbody>\n",
       "    <tr>\n",
       "      <th>std</th>\n",
       "      <td>3.559358</td>\n",
       "      <td>4.797057</td>\n",
       "    </tr>\n",
       "  </tbody>\n",
       "</table>\n",
       "</div>"
      ],
      "text/plain": [
       "     Congruent  Incongruent\n",
       "std   3.559358     4.797057"
      ]
     },
     "execution_count": 10,
     "metadata": {},
     "output_type": "execute_result"
    }
   ],
   "source": [
    "dfStat.iloc[[2]]"
   ]
  },
  {
   "cell_type": "markdown",
   "metadata": {},
   "source": [
    "### 4. Provide one or two visualizations that show the distribution of the sample data. Write one or two sentences noting what you observe about the plot or plots.\n",
    "\n",
    "Distribution plots are typically:  \n",
    "- Histograms \n",
    "- Density\n",
    "- Box\n",
    "\n",
    "#### Histograms"
   ]
  },
  {
   "cell_type": "code",
   "execution_count": 11,
   "metadata": {
    "collapsed": false
   },
   "outputs": [
    {
     "data": {
      "text/plain": [
       "array([[<matplotlib.axes._subplots.AxesSubplot object at 0x7f775884f9d0>,\n",
       "        <matplotlib.axes._subplots.AxesSubplot object at 0x7f7758a42950>]], dtype=object)"
      ]
     },
     "execution_count": 11,
     "metadata": {},
     "output_type": "execute_result"
    },
    {
     "data": {
      "image/png": "[encoded data removed]",
      "text/plain": [
       "<matplotlib.figure.Figure at 0x7f77587ebf50>"
      ]
     },
     "metadata": {},
     "output_type": "display_data"
    }
   ],
   "source": [
    "# Quick print of simple histograms\n",
    "df.hist(bins=8,figsize=(10, 4))"
   ]
  },
  {
   "cell_type": "markdown",
   "metadata": {},
   "source": [
    "The Congruent dataset is more likely normal than the incongruent dataset which seems to be skewed to the left, which is *postively skewed*."
   ]
  },
  {
   "cell_type": "code",
   "execution_count": 12,
   "metadata": {
    "collapsed": false
   },
   "outputs": [
    {
     "data": {
      "text/plain": [
       "<matplotlib.text.Text at 0x7f7758897250>"
      ]
     },
     "execution_count": 12,
     "metadata": {},
     "output_type": "execute_result"
    },
    {
     "data": {
      "image/png": "[encoded data removed]",
      "text/plain": [
       "<matplotlib.figure.Figure at 0x7f775885e610>"
      ]
     },
     "metadata": {},
     "output_type": "display_data"
    }
   ],
   "source": [
    "# Let's stack the histograms\n",
    "df.plot(kind='hist', alpha=0.5)\n",
    "plt.xlabel('seconds')\n",
    "plt.ylabel('Frequency')"
   ]
  },
  {
   "cell_type": "markdown",
   "metadata": {},
   "source": [
    "Stacking demonstrates the overlapping between the two datasets and how each is distrubted comparitively.  We can see over lapping occuring approximately around at 15 to 25 seconds with in a low frequency until we are approximately at 17.5 seconds where the freqeuncy is the highest (when overlapped) for both list at frequency of 4.\n",
    "\n",
    "One can visually see it takes the sample population more time to read the color of the ink of the words for the incongruent list."
   ]
  },
  {
   "cell_type": "markdown",
   "metadata": {},
   "source": [
    "#### Density"
   ]
  },
  {
   "cell_type": "code",
   "execution_count": 13,
   "metadata": {
    "collapsed": false
   },
   "outputs": [
    {
     "data": {
      "text/plain": [
       "<matplotlib.axes._subplots.AxesSubplot at 0x7f77585f9490>"
      ]
     },
     "execution_count": 13,
     "metadata": {},
     "output_type": "execute_result"
    },
    {
     "data": {
      "image/png": "[encoded data removed]",
      "text/plain": [
       "<matplotlib.figure.Figure at 0x7f775885e150>"
      ]
     },
     "metadata": {},
     "output_type": "display_data"
    }
   ],
   "source": [
    "# this uses pyplot - fyi instead of the ggplot2\n",
    "df.plot(kind='kde')"
   ]
  },
  {
   "cell_type": "markdown",
   "metadata": {},
   "source": [
    "The curves are similar with the exception of the right shifted Incongruent curve due to the Stroop effect.  We can see the Incongruent normalized curve has a bump out to the right, due to the outliers.\n",
    "\n",
    "> \"In statistics, kernel density estimation (KDE) is a non-parametric way to estimate the probability density function of a random variable. Kernel density estimation is a fundamental data smoothing problem where inferences about the population are made, based on a finite data sample.\"\n",
    "\n",
    "[Wikipedia - Kernal Density Estimation](https://en.wikipedia.org/wiki/Kernel_density_estimation)\n"
   ]
  },
  {
   "cell_type": "markdown",
   "metadata": {},
   "source": [
    "#### Combined Histogram and Normalized Plot\n"
   ]
  },
  {
   "cell_type": "code",
   "execution_count": 14,
   "metadata": {
    "collapsed": false
   },
   "outputs": [
    {
     "data": {
      "text/plain": [
       "<matplotlib.figure.Figure at 0x7f77583e68d0>"
      ]
     },
     "execution_count": 14,
     "metadata": {},
     "output_type": "execute_result"
    },
    {
     "data": {
      "image/png": "[encoded data removed]",
      "text/plain": [
       "<matplotlib.figure.Figure at 0x7f7758433f10>"
      ]
     },
     "metadata": {},
     "output_type": "display_data"
    },
    {
     "data": {
      "text/plain": [
       "<matplotlib.figure.Figure at 0x7f77583e68d0>"
      ]
     },
     "metadata": {},
     "output_type": "display_data"
    }
   ],
   "source": [
    "# Steps, to plot the normalized data  \n",
    "# 1. sort the column ascending for the data \n",
    "# 2. pdf - apply the probability density function using the \n",
    "#      mean and standard deviation to new dataframe\n",
    "#      http://docs.scipy.org/doc/scipy/reference/generated/scipy.stats.norm.html\n",
    "# 3. plot the sorted seconds, along with the pdf\n",
    "# 4. plot the histogram\n",
    "# Incongruent = Greens\n",
    "incog = df.sort(['Incongruent'], ascending=[1])\n",
    "ifit = stats.norm.pdf(incog['Incongruent'], np.mean(incog['Incongruent']), np.std(incog['Incongruent']))\n",
    "plt.plot(incog['Incongruent'],ifit,'-o',label='Incongruent', color='g')\n",
    "plt.hist(incog['Incongruent'], bins=8, normed=True, alpha=0.25, label='Incongruent',color='g')\n",
    "\n",
    "#Congruent - Blues\n",
    "cog = df.sort(['Congruent'], ascending=[1])\n",
    "cfit = stats.norm.pdf(cog['Congruent'], np.mean(cog['Congruent']), np.std(cog['Congruent']))\n",
    "plt.plot(cog['Congruent'],cfit,'-o',label='Congruent',color='b')\n",
    "plt.hist(cog['Congruent'], bins=8, normed=True, alpha=0.45, label='Congruent',color='b')\n",
    "plt.title('Stoop Effect')\n",
    "plt.xlabel('seconds')\n",
    "plt.ylabel('Density')\n",
    "plt.legend(loc='best', frameon=False)\n",
    "# resize to show the distribution of the data\n",
    "plt.figure(figsize(10,5))\n"
   ]
  },
  {
   "cell_type": "markdown",
   "metadata": {},
   "source": [
    "This plot shows the effect of interference when the subject 'says' the color of ink when the word color is different than the ink color.   The goal here is to view the central tendency and variabilty in one plot."
   ]
  },
  {
   "cell_type": "markdown",
   "metadata": {},
   "source": [
    "#### Box Plots"
   ]
  },
  {
   "cell_type": "code",
   "execution_count": 15,
   "metadata": {
    "collapsed": false
   },
   "outputs": [
    {
     "data": {
      "text/plain": [
       "<matplotlib.text.Text at 0x7f7758373e50>"
      ]
     },
     "execution_count": 15,
     "metadata": {},
     "output_type": "execute_result"
    },
    {
     "data": {
      "image/png": "[encoded data removed]",
      "text/plain": [
       "<matplotlib.figure.Figure at 0x7f77587283d0>"
      ]
     },
     "metadata": {},
     "output_type": "display_data"
    }
   ],
   "source": [
    "# print out simple box plot\n",
    "df.plot(kind='box', figsize=(10,6))\n",
    "plt.title('Box Plot of the Stroop Lists')\n",
    "plt.ylabel(\"seconds\")"
   ]
  },
  {
   "cell_type": "markdown",
   "metadata": {},
   "source": [
    "Box plots show us the spread of the data, using the quartiles, median and the min and max points as well as the outliers for the data.  We can see above the Incongruent data has outliers around 35 seconds.\n",
    "\n",
    "One can visually see it takes the sample population more time to read the color of the ink of the words for the incongruent list with the box plot.  We can even quickly see the medians are much different as well as the ranges for the congruent and incongruent datasets.\n",
    "\n",
    "The data seems to be leading us to say it takes more time for a subject to say the color of the ink out loud when the color word is different than the color."
   ]
  },
  {
   "cell_type": "markdown",
   "metadata": {},
   "source": [
    "#### BarPlot"
   ]
  },
  {
   "cell_type": "code",
   "execution_count": 120,
   "metadata": {
    "collapsed": false
   },
   "outputs": [
    {
     "data": {
      "image/png": "[encoded data removed]",
      "text/plain": [
       "<matplotlib.figure.Figure at 0x7f7757a46450>"
      ]
     },
     "metadata": {},
     "output_type": "display_data"
    }
   ],
   "source": [
    "congruent_data = df['Congruent']\n",
    "incongruent_data =df['Incongruent']\n",
    "\n",
    "fig, ax = plt.subplots()\n",
    "\n",
    "#index is equal to the individual ids\n",
    "index = congruent_data.index.values\n",
    "bar_width = 0.35\n",
    "opacity = 0.8\n",
    "\n",
    "p1 = plt.bar(congruent_data.index.values, congruent_data, bar_width,\n",
    "                 alpha=opacity,\n",
    "                 color='r',\n",
    "                 label='Congruent')\n",
    "\n",
    "p2 = plt.bar(incongruent_data.index.values + bar_width, incongruent_data, bar_width,\n",
    "                 alpha=opacity,\n",
    "                 color='g',\n",
    "                 label='Incongruent')\n",
    "\n",
    "plt.xlabel('Test Subjects')\n",
    "plt.ylabel('Seconds')\n",
    "plt.title('Word Congruency by Individual')\n",
    "plt.legend(loc='best', frameon=False, title='Independant Variable')\n",
    "xticks( congruent_data.index.values )\n",
    "\n",
    "plt.tight_layout()\n",
    "plt.show()"
   ]
  },
  {
   "cell_type": "markdown",
   "metadata": {},
   "source": [
    "### 5. Now, perform the statistical test and report your results. What is your confidence level and your critical statistic value? Do you reject the null hypothesis or fail to reject it? Come to a conclusion in terms of the experiment task. Did the results match up with your expectations?\n",
    "\n",
    "For Paired t, the hypotheses are:  \n",
    "\n",
    "**Null hypothesis**  \n",
    "H0: μd = μ0  \n",
    "The population mean of the differences (μd) equals the hypothesized mean of the differences (μ0).  \n",
    "\n",
    "**Alternative hypothesis**  \n",
    "\n",
    "Choose one:\n",
    "H1: μd ≠ μ0  \n",
    "The population mean of the differences (μd) does not equal the hypothesized mean of the differences (μ0).  \n",
    "\n",
    "H1: μd > μ0\t  \n",
    "The population mean of the differences (μd) is greater than the hypothesized mean of the differences (μ0).  \n",
    "\n",
    "**\n",
    "H1: μd < μ0  \n",
    "The population mean of the differences (μd) is less than the hypothesized mean of the differences (μ0).\n",
    "**\n",
    "\n",
    "*Notes*\n",
    "> If we observe a large p-value, for example greater than 0.05 or 0.1 then we cannot reject the null hypothesis of identical average scores. If the p-value is smaller than the threshold, e.g. 1%, 5% or 10%, then we reject the null hypothesis of equal averages. Small p-values are associated with large t-statistics.\n",
    "\n",
    "http://docs.scipy.org/doc/scipy/reference/generated/scipy.stats.ttest_rel.html\n"
   ]
  },
  {
   "cell_type": "markdown",
   "metadata": {},
   "source": [
    "#### Confidence Interval\n",
    "\n",
    "Reference:\n",
    "[NIST | 1.3.5.2. Confidence Limits for the Mean](http://www.itl.nist.gov/div898/handbook/eda/section3/eda352.htm)"
   ]
  },
  {
   "cell_type": "code",
   "execution_count": 121,
   "metadata": {
    "collapsed": false
   },
   "outputs": [
    {
     "name": "stdout",
     "output_type": "stream",
     "text": [
      "POPULATION - Congruent\n",
      "n \t\t\t\t = 24\n",
      "MEAN (mu) \t\t\t = 14.051125\n",
      "STANDARD DEVIATION \t\t = 3.55935795765\n",
      "\n",
      "\n",
      "SAMPLE - Incongruent\n",
      "n \t\t\t\t = 24\n",
      "MEAN (xbar) \t\t\t = 22.0159166667\n",
      "STANDARD DEVIATION \t\t = 4.79705712247\n",
      "STANDARD ERROR OF THE MEAN\t = 0.726550900679\n",
      "\n",
      "\n",
      "The t-score is 8.134\n",
      "The z-score is 2.777\n",
      "This is significant at p < 0.01\n",
      "\n",
      "\n",
      "The Confidence intervals (14.051125, 29.9807083333) \t\n",
      "Margin of Error: \t7.96479166667\n",
      "\n",
      "\n",
      "The t-statistic is -8.021 and the p-value is 0.000000041\n"
     ]
    }
   ],
   "source": [
    "# http://docs.scipy.org/doc/scipy/reference/generated/scipy.stats.ttest_rel.html\n",
    "# Congruent POPULATION - Population Distribution\n",
    "n = df['Congruent'].count()\n",
    "mu = stats.tmean(df['Congruent'], limits=None, inclusive=(True, True))\n",
    "sd = stats.tstd(df['Congruent'], limits=None, inclusive=(True, True))\n",
    "\n",
    "print 'POPULATION - Congruent'\n",
    "print 'n \\t\\t\\t\\t = ' + str(n)\n",
    "print 'MEAN (mu) \\t\\t\\t = ' + str(mean)\n",
    "print 'STANDARD DEVIATION \\t\\t = ' + str(sd)\n",
    "print '\\n'\n",
    "\n",
    "# INCONGRUENT SAMPLE - Sampling Distribution\n",
    "n_sample = df['Incongruent'].count()\n",
    "# xbar is the sample mean\n",
    "xbar = stats.tmean(df['Incongruent'], limits=None, inclusive=(True, True))\n",
    "sd_sample = stats.tstd(df['Incongruent'], limits=None, inclusive=(True, True))\n",
    "SE = mu/np.sqrt(n2)\n",
    "\n",
    "print 'SAMPLE - Incongruent'\n",
    "print 'n \\t\\t\\t\\t = ' + str(n_sample)\n",
    "print 'MEAN (xbar) \\t\\t\\t = ' + str(xbar)\n",
    "print('STANDARD DEVIATION \\t\\t = ' + str(sd_sample))\n",
    "# STANDARD ERROR OF THE MEAN\n",
    "# SE = standard deviation pop / sqrt(sample size) - most common\n",
    "print('STANDARD ERROR OF THE MEAN\\t = ' + str(sd/np.sqrt(n_sample)))\n",
    "#print('Thus, a 95% confidence interval for the mean is:\\n(' + str(m-h) + ' ,'+str(m+h)+')')\n",
    "print '\\n'      # new line\n",
    "\n",
    "# Critical Values are the z score or t score\n",
    "# One Tail for the critical regions\n",
    "# 5%   -> alpha = 0.05      (z: 1.65 )\n",
    "# 1%   -> alpha = 0.01      (z: 2.32 )\n",
    "# 0.1% -> alpha = 0.001     (z: 3.08 )\n",
    "#    Bullseye - very hard to hit, and if you did it is skill\n",
    "\n",
    "# Two for Tail for the critical regions\n",
    "# 5%   -> alpha = 0.05  -> 0.025      (z: 1.96 )\n",
    "# 1%   -> alpha = 0.01  -> 0.005      (z: 2.575 )\n",
    "# 0.1% -> alpha = 0.001 -> 0.0005     (z: 3.327 )\n",
    "#    Bullseye - very hard to hit, and if you did it is skill\n",
    "# In the two tailed test, this z-scores are used to calculate confidence intervals\n",
    "\n",
    "# t-scores need degrees of freedom to calculate the critical values\n",
    "# Note:\n",
    "# once data falls into this range we can reject the null hypothesis\n",
    "# if the z-score of the samples mean is > the z-critcal value\n",
    "#  we have evidence that the samples are different\n",
    "#  the smaller the alpha the larger the evidence there is an affect\n",
    "\n",
    "# CRITICAL VALUES\n",
    "# t-score = (xbar-mu) / (sd_sample / np.sqrt(n_sample))\n",
    "# double check this... \n",
    "t_score = (xbar-mu) / (sd_sample / np.sqrt(n_sample))\n",
    "print \"The t-score is %.3f\" % t_score \n",
    "\n",
    "\n",
    "# z-score = (xbar-mu) / SE\n",
    "# OR (xbar-mu) / sd_pop / SQRT(n_sample)\n",
    "# 2.777 -> probability -> 0.9972\n",
    "z_score =  (xbar-mu) / SE\n",
    "print \"The z-score is %.3f\" % z_score\n",
    "print \"This is significant at p < 0.01\"\n",
    "print '\\n'      # new line\n",
    "\n",
    "# Confidence Intervals\n",
    "# xbar - (z-score * SE), xbar + (z-score * SE)\n",
    "ci_upper = xbar + (z_score * SE)\n",
    "ci_lower = xbar - (z_score * SE)\n",
    "# Margin of error\n",
    "margin_of_error = (ci_upper-ci_lower)/2.0\n",
    "\n",
    "print \"The Confidence intervals (%s, %s) \\t\" % (ci_lower, ci_upper)\n",
    "print \"Margin of Error: \\t%s\" % margin_of_error\n",
    "print '\\n'      # new line\n",
    "\n",
    "# t-test \n",
    "paried_t_test_results = stats.ttest_rel(df['Congruent'], df['Incongruent'])\n",
    "print \"The t-statistic is %.3f and the p-value is %.9f\" % paried_t_test_results\n",
    "\n",
    "\n"
   ]
  },
  {
   "cell_type": "markdown",
   "metadata": {},
   "source": [
    "p-value is so damn low and z-score so damn high, this event is very unlikely and this tells us the incongruent list has a strong effect on the time it takes to read the incongruent word list."
   ]
  },
  {
   "cell_type": "markdown",
   "metadata": {},
   "source": [
    "### WRONG"
   ]
  },
  {
   "cell_type": "code",
   "execution_count": 16,
   "metadata": {
    "collapsed": false
   },
   "outputs": [
    {
     "name": "stdout",
     "output_type": "stream",
     "text": [
      "Sample 1 - Congruent\n",
      "N \t\t\t\t = 24\n",
      "MEAN \t\t\t\t = 14.051125\n",
      "STANDARD DEVIATION \t\t = 3.55935795765\n",
      "STANDARD ERROR OF THE MEAN\t = 0.726550900679\n",
      "\n",
      "\n",
      "Thus, a 95% confidence interval for the mean is:\n",
      "(12.54813995 ,15.55411005)\n",
      "\n",
      "\n",
      "Sample 2 - Incongruent\n",
      "N \t\t\t\t = 24\n",
      "MEAN \t\t\t\t = 22.0159166667\n",
      "STANDARD DEVIATION \t\t = 4.79705712247\n",
      "STANDARD ERROR OF THE MEAN\t = 0.979195184753\n",
      "\n",
      "\n",
      "Thus, a 95% confidence interval for the mean is:\n",
      "(19.9902970956 ,24.0415362377)\n"
     ]
    }
   ],
   "source": [
    "################### Sample Congruent #########################\n",
    "\n",
    "# confidence interval calculations\n",
    "n = df['Congruent'].count()\n",
    "mean = stats.tmean(df['Congruent'], limits=None, inclusive=(True, True))\n",
    "sd = stats.tstd(df['Congruent'], limits=None, inclusive=(True, True))\n",
    "\n",
    "# Critical value calculation\n",
    "a = 1.0*np.array(df['Congruent'])\n",
    "n = len(a)\n",
    "m, se = np.mean(a), stats.sem(a)\n",
    "\n",
    "# http://docs.scipy.org/doc/scipy-0.15.1/reference/generated/scipy.stats.t.html\n",
    "# [what is this doing] \n",
    "critical_value = stats.t._ppf(-"
   ]
  },
  {
   "cell_type": "markdown",
   "metadata": {},
   "source": [
    "##### Critical Statistic Value\n",
    "2.06865761042\n"
   ]
  },
  {
   "cell_type": "markdown",
   "metadata": {},
   "source": [
    "#### T-Test"
   ]
  },
  {
   "cell_type": "code",
   "execution_count": 17,
   "metadata": {
    "collapsed": false
   },
   "outputs": [
    {
     "name": "stdout",
     "output_type": "stream",
     "text": [
      "Test statistics: T \t\t= -6.5322505539\n",
      "Pooled standard deviation: sp\t= 4.17820754006\n",
      "Degrees of freedom: v \t\t= 46\n",
      "Significance Level: alpha \t= 0.05\n",
      "Critical value: t1-α/2,ν \t= 2.06865761042\n",
      "Critical region: Reject H0 if \t|T| > 2.06865761042\n",
      "P value: \t\t\t= 4.5949489623e-08\n",
      "\n",
      "\n",
      "Standard Error: SE \t\t= 1.20614462399\n"
     ]
    }
   ],
   "source": [
    "# Two Sample t-tests\n",
    "# http://docs.scipy.org/doc/scipy/reference/generated/scipy.stats.ttest_1samp.html\n",
    "# returns\n",
    "#   t_statistic and two-tailed p-value\n",
    "# null hypothesis: the two groups have the same mean\n",
    "# this test assumes the two groups have the same variance...\n",
    "# (can be checked with tests for equal variance)\n",
    "# independent groups: e.g., The congruent and incongruent list of words \n",
    "# dependent groups: e.g., how long it takes to say the color of the ink for the words\n",
    "t_statistic, p_value = ttest_ind(df['Congruent'], df['Incongruent'])\n",
    "\n",
    "# pooled standard devaition\n",
    "pooled_sd =  (stats.tstd(df['Incongruent'], limits=None, inclusive=(True, True))*n + \n",
    "    stats.tstd(df['Congruent'], limits=None, inclusive=(True, True))*n) / (n+n)\n",
    "\n",
    "print 'Test statistics: T \\t\\t= '+ str(t_statistic)\n",
    "print 'Pooled standard deviation: sp\\t= '+ str(pooled_sd)\n",
    "\n",
    "# The degrees of freedom of the pooled standard deviation SP is\n",
    "# the total of the df from each sample. (n1 – 1) + (n2 – 1)\n",
    "# If equal variances are assumed, then ν = N1 + N2 - 2\n",
    "print 'Degrees of freedom: v \\t\\t= '+ str((n-1)+(n-1))\n",
    "\n",
    "# 0.05 for 2 tailed test\n",
    "print 'Significance Level: alpha \\t= '+ str(0.05)\n",
    "print 'Critical value: t1-α/2,ν \\t= '+ str(critical_value)\n",
    "print 'Critical region: Reject H0 if \\t|T| > '+str(critical_value)\n",
    "print 'P value: \\t\\t\\t= ' + str(p_value)\n",
    "print '\\n'\n",
    "# Standard Error - we need a float in the numerator or demoninator\n",
    "std_error = pooled_sd * np.sqrt(1.0/n + 1.0/n)\n",
    "print 'Standard Error: SE \\t\\t= ' + str(std_error)"
   ]
  },
  {
   "cell_type": "markdown",
   "metadata": {},
   "source": [
    "#### Conclusion"
   ]
  },
  {
   "cell_type": "code",
   "execution_count": 18,
   "metadata": {
    "collapsed": false
   },
   "outputs": [
    {
     "name": "stdout",
     "output_type": "stream",
     "text": [
      "|-6.5322505539| > 2.06865761042 \n",
      "null hypothesis is rejected\n"
     ]
    }
   ],
   "source": [
    "# code up the t-test check for H0 and Ha\n",
    "if abs(t_statistic) > critical_value:\n",
    "    print '|'+str(t_statistic)+'| > 2.06865761042 \\nnull hypothesis is rejected'\n",
    "else:\n",
    "    print '|'+str(t_statistic)+'| > 2.06865761042 \\nnull hypothesis is true'"
   ]
  },
  {
   "cell_type": "markdown",
   "metadata": {},
   "source": [
    "We **reject the null hypothesis** for our two-tailed t-test because the absolute value of the test statistic is greater than the critical value. \n",
    "\n",
    "Saying the color of the ink when the color of the word is different (incongurent) requires more time."
   ]
  },
  {
   "cell_type": "markdown",
   "metadata": {},
   "source": [
    "### 6. What do you think is responsible for the effects observed? \n",
    "\n",
    "Based on the theories listed my pick is 'Selective Attention' and 'Parallel Distributed Processing'.\n",
    "\n",
    "See Wikiepdia - The Stroop Effect | Wikiepdia - The Stroop Effect\n",
    "\n",
    "### Can you think of an alternative or similar task that would result in a similar effect? \n",
    "\n",
    "Learning a new language and having to read the words in German and think of the translation back to English.  At the oncept of learning the language I would suppose one could have a 'Parallel Distributed Processing'  because we are reading and also processing and mapping the German word back to English and then mapping the English word back to it's meaning.\n",
    "\n"
   ]
  },
  {
   "cell_type": "markdown",
   "metadata": {},
   "source": [
    "## References\n",
    "\n",
    "[Pandas Documentation](http://pandas.pydata.org/pandas-docs/version/0.15.0/visualization.html)\n",
    "\n",
    "[Wikiepdia - The Stroop Effect](https://en.wikipedia.org/wiki/Stroop_effect)\n"
   ]
  },
  {
   "cell_type": "markdown",
   "metadata": {},
   "source": [
    "### Notes"
   ]
  },
  {
   "cell_type": "markdown",
   "metadata": {},
   "source": [
    "Chart Examples and equations used to understand the math behind various methods in the python.\n",
    "\n",
    "Re-using the variables is going to be a debuging pain when an error in the code occurs.  Need a better way or new variables per sample."
   ]
  },
  {
   "cell_type": "markdown",
   "metadata": {},
   "source": [
    "#### Manaully Calculate the T Statictic"
   ]
  },
  {
   "cell_type": "code",
   "execution_count": 19,
   "metadata": {
    "collapsed": false
   },
   "outputs": [
    {
     "data": {
      "text/plain": [
       "-6.6035129687391496"
      ]
     },
     "execution_count": 19,
     "metadata": {},
     "output_type": "execute_result"
    }
   ],
   "source": [
    "# population vs sample mean - where is the difference coming from?\n",
    "T_Stat = (14.051125-22.0159166667) / std_error\n",
    "T_Stat"
   ]
  },
  {
   "cell_type": "code",
   "execution_count": 20,
   "metadata": {
    "collapsed": false
   },
   "outputs": [
    {
     "name": "stdout",
     "output_type": "stream",
     "text": [
      " SE Congruent:  0.726550900679\n",
      " SE Incongruent:0.979195184753\n"
     ]
    }
   ],
   "source": [
    "# scipy standard error method mean (SE) ->  std deviation / sqrt(sample size)\n",
    "# ddof = 1\n",
    "print ' SE Congruent:  ' + str(stats.sem(df['Congruent'], axis=None, ddof=1))\n",
    "print ' SE Incongruent:' + str(stats.sem(df['Incongruent'], axis=None, ddof=1))"
   ]
  },
  {
   "cell_type": "markdown",
   "metadata": {},
   "source": [
    "#####  Charts"
   ]
  },
  {
   "cell_type": "code",
   "execution_count": 21,
   "metadata": {
    "collapsed": false
   },
   "outputs": [
    {
     "data": {
      "image/png": "[encoded data removed]",
      "text/plain": [
       "<matplotlib.figure.Figure at 0x7f77586a57d0>"
      ]
     },
     "metadata": {},
     "output_type": "display_data"
    }
   ],
   "source": [
    "# http://docs.scipy.org/doc/scipy/reference/generated/scipy.stats.norm.html\n",
    "# Example of another normalized curve using pdf\n",
    "fig, ax = plt.subplots(1, 1)\n",
    "\n",
    "mean, var, skew, kurt = stats.norm.stats(moments='mvsk')\n",
    "\n",
    "x = np.linspace(stats.norm.ppf(0.01),stats.norm.ppf(0.99), 100)\n",
    "ax.plot(x, stats.norm.pdf(x),'r-', lw=5, alpha=0.6, label='norm pdf')\n",
    "\n",
    "rv = stats.norm()\n",
    "ax.plot(x, rv.pdf(x), 'k-', lw=2, label='frozen pdf')\n",
    "\n",
    "\n",
    "vals = stats.norm.ppf([0.001, 0.5, 0.999])\n",
    "np.allclose([0.001, 0.5, 0.999], stats.norm.cdf(vals))\n",
    "r = stats.norm.rvs(size=1000)\n",
    "ax.hist(r, normed=True, histtype='stepfilled', alpha=0.2)\n",
    "ax.legend(loc='best', frameon=False)\n",
    "plt.show()"
   ]
  },
  {
   "cell_type": "code",
   "execution_count": 22,
   "metadata": {
    "collapsed": false
   },
   "outputs": [
    {
     "data": {
      "image/png": "[encoded data removed]",
      "text/plain": [
       "<matplotlib.figure.Figure at 0x7f775830a950>"
      ]
     },
     "metadata": {},
     "output_type": "display_data"
    }
   ],
   "source": [
    "# http://stackoverflow.com/questions/14762181/adding-a-y-axis-label-to-secondary-y-axis-in-matplotlib\n",
    "# Example of plotting a secondary y axis\n",
    "x = np.arange(0, 10, 0.1)\n",
    "y1 = 0.05 * x**2\n",
    "y2 = -1 *y1\n",
    "\n",
    "fig, ax1 = plt.subplots()\n",
    "\n",
    "ax2 = ax1.twinx()\n",
    "ax1.plot(x, y1, 'g-')\n",
    "ax2.plot(x, y2, 'b-')\n",
    "\n",
    "ax1.set_xlabel('X data')\n",
    "ax1.set_ylabel('Y1 data', color='g')\n",
    "ax2.set_ylabel('Y2 data', color='b')\n",
    "\n",
    "plt.show()"
   ]
  },
  {
   "cell_type": "code",
   "execution_count": null,
   "metadata": {
    "collapsed": true
   },
   "outputs": [],
   "source": []
  }
 ],
 "metadata": {
  "kernelspec": {
   "display_name": "Python 2",
   "language": "python",
   "name": "python2"
  },
  "language_info": {
   "codemirror_mode": {
    "name": "ipython",
    "version": 2
   },
   "file_extension": ".py",
   "mimetype": "text/x-python",
   "name": "python",
   "nbconvert_exporter": "python",
   "pygments_lexer": "ipython2",
   "version": "2.7.10"
  }
 },
 "nbformat": 4,
 "nbformat_minor": 0
}
