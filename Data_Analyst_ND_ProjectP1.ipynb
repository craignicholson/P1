{
 "cells": [
  {
   "cell_type": "markdown",
   "metadata": {},
   "source": [
    "# Test a Perceptual Phenomenon\n",
    "\n",
    "\n",
    "Craig Nicholson  \n",
    "September 4, 2015\n",
    "* * *\n",
    "\n",
    "In this project, you will investigate a classic phenomenon from experimental psychology called the Stroop Effect. You will learn a little bit about the experiment, create a hypothesis regarding the outcome of the task, then go through the task yourself. You will then look at some data collected from others who have performed the same task and will compute some statistics describing the results. Finally, you will interpret your results in terms of your hypotheses."
   ]
  },
  {
   "cell_type": "markdown",
   "metadata": {},
   "source": [
    "## Statistics: The Science of Decisions Project Instructions\n",
    "\n",
    "### Background Information\n",
    "\n",
    "In a Stroop task, participants are presented with a list of words, with each word displayed in a color of ink. The participant’s task is to say out loud the color of the ink in which the word is printed. The task has two conditions: a **congruent** words condition, and an **incongruent** words condition. In the congruent words condition, the words being displayed are color words whose names match the colors in which they are printed: for example RED, BLUE. In the incongruent words condition, the words displayed are color words whose names do not match the colors in which they are printed: for example PURPLE, ORANGE. In each case, we measure the time it takes to name the ink colors in equally-sized lists. Each participant will go through and record a time from each condition."
   ]
  },
  {
   "cell_type": "markdown",
   "metadata": {},
   "source": [
    "### Imports"
   ]
  },
  {
   "cell_type": "code",
   "execution_count": 1,
   "metadata": {
    "collapsed": false
   },
   "outputs": [],
   "source": [
    "import pandas as pd\n",
    "import scipy.stats as stats\n",
    "import statsmodels as sm\n",
    "from scipy.stats import ttest_ind"
   ]
  },
  {
   "cell_type": "code",
   "execution_count": 2,
   "metadata": {
    "collapsed": false
   },
   "outputs": [
    {
     "name": "stdout",
     "output_type": "stream",
     "text": [
      "Populating the interactive namespace from numpy and matplotlib\n"
     ]
    }
   ],
   "source": [
    "# display plot within the notebook rather than a new window\n",
    "%pylab inline\n",
    "\n",
    "import matplotlib.pyplot as plt"
   ]
  },
  {
   "cell_type": "markdown",
   "metadata": {},
   "source": [
    "### Load the data"
   ]
  },
  {
   "cell_type": "code",
   "execution_count": 3,
   "metadata": {
    "collapsed": false
   },
   "outputs": [],
   "source": [
    "# load the stroopdata.csv\n",
    "path = '~/Downloads/P1/stroopdata.csv'\n",
    "df = pd.read_csv(path)"
   ]
  },
  {
   "cell_type": "markdown",
   "metadata": {},
   "source": [
    "### Questions For Investigation"
   ]
  },
  {
   "cell_type": "markdown",
   "metadata": {},
   "source": [
    "### 1. What is our independent variable? What is our dependent variable?\n",
    "The **independant variable** is the word list. We vary the word list by having the color of the ink match the color of the 'word' and the the opposite, where the color or the ink does not match the color of the word.\n",
    "\n",
    "\n",
    "The **dependant variable** is time it takes to say out loud the color of the ink in which the word is printed.\n",
    "\n",
    "Clarification of dependant variable:  The time it takes (seconds) to say the color of the ink for the color words for the congruent and incongruent list is what is being measured.  \n",
    "\n",
    "**[Notes]**  \n",
    "*An independent variable, sometimes called an experimental or predictor variable, is a variable that is being manipulated in an experiment in order to observe the effect on a dependent variable, sometimes called an outcome variable.*\n",
    " \n",
    "*The dependent variable is the variable being measured which is affected by the independent variable*\n",
    "\n",
    "Reference:\n",
    "[Laerd Statistics : Types of Variable](https://statistics.laerd.com/statistical-guides/types-of-variable.php)\n"
   ]
  },
  {
   "cell_type": "markdown",
   "metadata": {},
   "source": [
    "### 2. What is an appropriate set of hypotheses for this task? What kind of statistical test do you expect to perform? Justify your choices.\n",
    "\n",
    "**Null hypothesis**  \n",
    "H0: μd = μ0  \n",
    "The population mean of the differences (μd) equals the hypothesized mean of the differences (μ0).  \n",
    "\n",
    "The null hypothesis, for this experiment would be the time it takes to say the color of the ink in the word lists takes approximately the same amount of time, on average, for the congruent and incongruent lists.  \n",
    "A two tailed test woud be H1: μd ≠ μ0   \n",
    "\n",
    "**Alternative hypothesis**\n",
    "\n",
    "H1: μd < μ0  \n",
    "The population mean of the differences (μd) is less than the hypothesized mean of the differences (μ0).  \n",
    "*Use this for one tail test*\n",
    "\n",
    "H1: μd ≠ μ0  \n",
    "*Use this for two tail test*\n",
    "\n",
    "The alternative hypothesis for a one tail test for this experiment would be the time it takes to say the color of the ink in the word lists takes much more larger amount of time, on average.\n",
    "\n",
    "We will use H1: μd ≠ μ0  as our HA.\n",
    "\n",
    "**Types of Statistical Test **\n",
    "The types of statistical test one can use depends on the type of data.  The data for the Stroop task is interval and relatively normal.  Our options are the following:\n",
    "\n",
    "- paired t-test - one tail\n",
    "- paired t-test - two tail\n",
    "- z test (requires knowing population mean and standard deviation)\n",
    "\n",
    "####We will be performing a two tail T-Test.\n",
    "H0: μd = μ0  \n",
    "H1: μd ≠ μ0  \n",
    "\n",
    "** [Notes] **  \n",
    "μd - population  \n",
    "μ0 - sample  \n",
    "\n",
    "Tests whether the mean of the differences between dependent or paired observations is equal to a target value\n",
    "http://support.minitab.com/en-us/minitab/17/topic-library/basic-statistics-and-graphs/hypothesis-tests/tests-of-means/why-use-paired-t/\n",
    "\n",
    "The Z test requires a sample size approximately greater than of equal 30 (n>=30).\n",
    "Z test requires the mu and sigman... mean and standard deviation\n",
    "\n",
    "Udacity - Lesson 10-  t-Distribution    \n",
    "- z = use when you have mu and sigma, mu is the average of the entire population.\n",
    "- for this data we do not have the Stroop Effect of every know subject.\n",
    "- Our samples can be dependant or indepentant Lesson 10 is dependant samples\n",
    "\n",
    "When working with samples we have to estimate the std dev using Bessiles correction\n",
    "instead of n use n-1 for this stdev.s in excel.\n",
    "\n",
    "t-distribution is more prone to error.\n",
    "\n",
    "t test/scores are less accurate because they have a larger margin of error, they are more spread out.\n",
    "\n",
    "The variable is dependant when the same subject takes the test twice.\n",
    "- two conditions\n",
    "- takes pre test, and then post test\n",
    "- growth over time\n",
    "\n",
    "**Repeated measured design** experiment.  \n",
    "H0: μd = μ0  \n",
    "diff between two keyboards  \n",
    "diff between two word lists  \n",
    " \n",
    "**Longitudinal**   \n",
    "H0: μtime1 = μtime2  \n",
    "measure the var. at one point in time and then measaure again at another point in time  \n",
    "4 years of age and 8 years of age.\n",
    "\n",
    "**pre-test post test**   \n",
    "H0: μpre = μpost  \n",
    "before a treatment, and after the treatment\n",
    "\n",
    "\n",
    "\n",
    "\n",
    "** References**\n",
    "\n",
    "[idre UCLA - What statistical analysis should I use?](http://www.ats.ucla.edu/stat/mult_pkg/whatstat/)     \n",
    "[NIST - What are statistical tests?](http://www.itl.nist.gov/div898/handbook/prc/section1/prc13.htm)  \n",
    "[Two-Sample t-Test for Equal Means](http://www.itl.nist.gov/div898/handbook/eda/section3/eda353.htm) \n",
    "\n",
    "http://support.minitab.com/en-us/minitab/17/topic-library/basic-statistics-and-graphs/hypothesis-tests/tests-of-means/types-of-t-tests/\n",
    "\n",
    "\n"
   ]
  },
  {
   "cell_type": "markdown",
   "metadata": {},
   "source": [
    "### 3. Report some descriptive statistics regarding this dataset. Include at least one measure of central tendency and at least one measure of variability.\n",
    "\n",
    "#### Central Tendency\n",
    "*Mean, Median, Mode, a histogram of both of the data sets measure the central tendency of a dataset.  The typical or middle value for the dataset.*\n",
    "\n",
    "The mean for the congruent list is 14.05 with a median of 14.36.  \n",
    "\n",
    "The mean for the incongruent list is 22.02 with a median of 21.02.\n",
    "\n",
    "[Laerd Statistics : Measure of Centrral Tendancy ](https://statistics.laerd.com/statistical-guides/measures-central-tendency-mean-mode-median.php)\n",
    "\n",
    "**Congruent Mean & Median **"
   ]
  },
  {
   "cell_type": "code",
   "execution_count": 4,
   "metadata": {
    "collapsed": false
   },
   "outputs": [
    {
     "name": "stdout",
     "output_type": "stream",
     "text": [
      "Mean:\t14.051125\n",
      "Median:\t14.3565\n"
     ]
    }
   ],
   "source": [
    "# Get the mean and median for the Congruent list\n",
    "# print Congruent results\n",
    "print 'Mean:\\t' + str( df['Congruent'].mean())\n",
    "print 'Median:\\t' + str(df['Congruent'].median())\n"
   ]
  },
  {
   "cell_type": "markdown",
   "metadata": {},
   "source": [
    "**Incongruent Mean & Median**"
   ]
  },
  {
   "cell_type": "code",
   "execution_count": 5,
   "metadata": {
    "collapsed": false
   },
   "outputs": [
    {
     "name": "stdout",
     "output_type": "stream",
     "text": [
      "Mean:\t22.0159166667\n",
      "Median:\t21.0175\n"
     ]
    }
   ],
   "source": [
    "# Get the mean and median for the Incongruent list\n",
    "# print Congruent results\n",
    "print 'Mean:\\t' + str(df['Incongruent'].mean())\n",
    "print 'Median:\\t' + str(df['Incongruent'].median())"
   ]
  },
  {
   "cell_type": "markdown",
   "metadata": {},
   "source": [
    "#### Measure of Variability?\n",
    "\n",
    "The seconds for the Congruent list are less spread out and more likely normally distributed than the incongruent list whose data is right shifted.   The Incongruent list has a larger mean then the Congruent list.\n",
    "\n",
    "Typically one can look at the range, quartiles and standard deviation to see the variability of the data."
   ]
  },
  {
   "cell_type": "markdown",
   "metadata": {},
   "source": [
    "**Range**\n",
    "Incongruent list has a larger range than the congruent list."
   ]
  },
  {
   "cell_type": "code",
   "execution_count": 6,
   "metadata": {
    "collapsed": false
   },
   "outputs": [
    {
     "name": "stdout",
     "output_type": "stream",
     "text": [
      "Range of Congruent & Incongruent Lists: (13.70, 19.57)\n"
     ]
    }
   ],
   "source": [
    "dfStat = df.describe()\n",
    "# Range\n",
    "Congruent_R = dfStat['Congruent']['max'] - dfStat['Congruent']['min']\n",
    "Incongruent_R = dfStat['Incongruent']['max'] - dfStat['Incongruent']['min']\n",
    "print 'Range of Congruent & Incongruent Lists: (%.2f, %.2f)' % (Congruent_R, Incongruent_R)"
   ]
  },
  {
   "cell_type": "markdown",
   "metadata": {},
   "source": [
    "\n",
    "**Interquartile Range (IQR)**  \n",
    "IQR = 75% - 25%  \n",
    "\n",
    "The data for the Incongruent IQR is slightly more spread out than the Congruent data."
   ]
  },
  {
   "cell_type": "code",
   "execution_count": 7,
   "metadata": {
    "collapsed": false
   },
   "outputs": [
    {
     "name": "stdout",
     "output_type": "stream",
     "text": [
      "IQR of Congruent :\t4.31\n",
      "IQR of Incongruent:\t5.33\n"
     ]
    }
   ],
   "source": [
    "# IQR\n",
    "cIQR = dfStat['Congruent']['75%'] - dfStat['Congruent']['25%']\n",
    "iIQR = dfStat['Incongruent']['75%'] - dfStat['Incongruent']['25%']\n",
    "print 'IQR of Congruent :\\t%.2f' % cIQR\n",
    "print 'IQR of Incongruent:\\t%.2f' % iIQR\n"
   ]
  },
  {
   "cell_type": "markdown",
   "metadata": {},
   "source": [
    "**Standard Deviation of the Congruent and Incongruent Lists**  \n",
    "The Incongruent List has a larger standard deviation (1.35x larger than Congruent) so the values in the Incongruent list are spread farther out from the mean."
   ]
  },
  {
   "cell_type": "code",
   "execution_count": 8,
   "metadata": {
    "collapsed": false
   },
   "outputs": [
    {
     "data": {
      "text/html": [
       "<div>\n",
       "<table border=\"1\" class=\"dataframe\">\n",
       "  <thead>\n",
       "    <tr style=\"text-align: right;\">\n",
       "      <th></th>\n",
       "      <th>Congruent</th>\n",
       "      <th>Incongruent</th>\n",
       "    </tr>\n",
       "  </thead>\n",
       "  <tbody>\n",
       "    <tr>\n",
       "      <th>std</th>\n",
       "      <td>3.559358</td>\n",
       "      <td>4.797057</td>\n",
       "    </tr>\n",
       "  </tbody>\n",
       "</table>\n",
       "</div>"
      ],
      "text/plain": [
       "     Congruent  Incongruent\n",
       "std   3.559358     4.797057"
      ]
     },
     "execution_count": 8,
     "metadata": {},
     "output_type": "execute_result"
    }
   ],
   "source": [
    "dfStat.iloc[[2]]"
   ]
  },
  {
   "cell_type": "markdown",
   "metadata": {},
   "source": [
    "### 4. Provide one or two visualizations that show the distribution of the sample data. Write one or two sentences noting what you observe about the plot or plots.\n",
    "\n",
    "Distribution plots are typically:  \n",
    "- Histograms \n",
    "- Density\n",
    "- Box"
   ]
  },
  {
   "cell_type": "markdown",
   "metadata": {},
   "source": [
    "**Histograms for Congruent and Incongruent Lists**  \n",
    "The histogram can help us visualize the central tendency and the mode for a dataset.  I have set the x axis to start at the same range for both histograms to show how the Incongruent List is right shifted on the x axis.\n"
   ]
  },
  {
   "cell_type": "code",
   "execution_count": 9,
   "metadata": {
    "collapsed": false
   },
   "outputs": [
    {
     "data": {
      "text/plain": [
       "array([[<matplotlib.axes._subplots.AxesSubplot object at 0x7f2ad1fe3ad0>,\n",
       "        <matplotlib.axes._subplots.AxesSubplot object at 0x7f2aab42f2d0>]], dtype=object)"
      ]
     },
     "execution_count": 9,
     "metadata": {},
     "output_type": "execute_result"
    },
    {
     "data": {
      "image/png": "[encoded data removed]",
      "text/plain": [
       "<matplotlib.figure.Figure at 0x7f2ae26f2fd0>"
      ]
     },
     "metadata": {},
     "output_type": "display_data"
    }
   ],
   "source": [
    "# Quick print of simple histograms\n",
    "df.hist(bins=8,figsize=(10, 4))"
   ]
  },
  {
   "cell_type": "markdown",
   "metadata": {},
   "source": [
    "The Congruent dataset is more likely normal than the incongruent dataset which seems to be skewed to the left, which is *postively skewed*."
   ]
  },
  {
   "cell_type": "markdown",
   "metadata": {},
   "source": [
    "#### Density"
   ]
  },
  {
   "cell_type": "code",
   "execution_count": 10,
   "metadata": {
    "collapsed": false
   },
   "outputs": [
    {
     "data": {
      "text/plain": [
       "<matplotlib.axes._subplots.AxesSubplot at 0x7f2aab26bed0>"
      ]
     },
     "execution_count": 10,
     "metadata": {},
     "output_type": "execute_result"
    },
    {
     "data": {
      "image/png": "[encoded data removed]",
      "text/plain": [
       "<matplotlib.figure.Figure at 0x7f2aab2184d0>"
      ]
     },
     "metadata": {},
     "output_type": "display_data"
    }
   ],
   "source": [
    "# this uses pyplot - fyi instead of the ggplot2\n",
    "df.plot(kind='kde')"
   ]
  },
  {
   "cell_type": "markdown",
   "metadata": {},
   "source": [
    "The curves are similar with the exception of the right shifted Incongruent curve due to the Stroop effect.  We can see the Incongruent normalized curve has a bump out to the right, due to the outliers.\n",
    "\n",
    "> \"In statistics, kernel density estimation (KDE) is a non-parametric way to estimate the probability density function of a random variable. Kernel density estimation is a fundamental data smoothing problem where inferences about the population are made, based on a finite data sample.\"\n",
    "\n",
    "[Wikipedia - Kernal Density Estimation](https://en.wikipedia.org/wiki/Kernel_density_estimation)\n"
   ]
  },
  {
   "cell_type": "markdown",
   "metadata": {},
   "source": [
    "#### Combined Histogram and Normalized Plot\n"
   ]
  },
  {
   "cell_type": "code",
   "execution_count": 11,
   "metadata": {
    "collapsed": false
   },
   "outputs": [
    {
     "data": {
      "text/plain": [
       "<matplotlib.figure.Figure at 0x7f2aab19d550>"
      ]
     },
     "execution_count": 11,
     "metadata": {},
     "output_type": "execute_result"
    },
    {
     "data": {
      "image/png": "[encoded data removed]",
      "text/plain": [
       "<matplotlib.figure.Figure at 0x7f2aab7d5a10>"
      ]
     },
     "metadata": {},
     "output_type": "display_data"
    },
    {
     "data": {
      "text/plain": [
       "<matplotlib.figure.Figure at 0x7f2aab19d550>"
      ]
     },
     "metadata": {},
     "output_type": "display_data"
    }
   ],
   "source": [
    "# Steps, to plot the normalized data  \n",
    "# 1. sort the column ascending for the data \n",
    "# 2. pdf - apply the probability density function using the \n",
    "#      mean and standard deviation to new dataframe\n",
    "#      http://docs.scipy.org/doc/scipy/reference/generated/scipy.stats.norm.html\n",
    "# 3. plot the sorted seconds, along with the pdf\n",
    "# 4. plot the histogram\n",
    "# Incongruent = Greens\n",
    "incog = df.sort(['Incongruent'], ascending=[1])\n",
    "ifit = stats.norm.pdf(incog['Incongruent'], np.mean(incog['Incongruent']), np.std(incog['Incongruent']))\n",
    "plt.plot(incog['Incongruent'],ifit,'-o',label='Incongruent', color='g')\n",
    "plt.hist(incog['Incongruent'], bins=8, normed=True, alpha=0.25, label='Incongruent',color='g')\n",
    "\n",
    "#Congruent - Blues\n",
    "cog = df.sort(['Congruent'], ascending=[1])\n",
    "cfit = stats.norm.pdf(cog['Congruent'], np.mean(cog['Congruent']), np.std(cog['Congruent']))\n",
    "plt.plot(cog['Congruent'],cfit,'-o',label='Congruent',color='b')\n",
    "plt.hist(cog['Congruent'], bins=8, normed=True, alpha=0.45, label='Congruent',color='b')\n",
    "plt.title('Stoop Effect')\n",
    "plt.xlabel('seconds')\n",
    "plt.ylabel('Density')\n",
    "plt.legend(loc='best', frameon=False)\n",
    "# resize to show the distribution of the data\n",
    "plt.figure(figsize(10,5))\n"
   ]
  },
  {
   "cell_type": "markdown",
   "metadata": {},
   "source": [
    "This plot shows the effect of interference when the subject 'says' the color of ink when the word color is different than the ink color.   The goal here is to view the central tendency and variabilty in one plot."
   ]
  },
  {
   "cell_type": "markdown",
   "metadata": {},
   "source": [
    "#### Box Plots"
   ]
  },
  {
   "cell_type": "code",
   "execution_count": 12,
   "metadata": {
    "collapsed": false
   },
   "outputs": [
    {
     "data": {
      "text/plain": [
       "<matplotlib.text.Text at 0x7f2aab19d210>"
      ]
     },
     "execution_count": 12,
     "metadata": {},
     "output_type": "execute_result"
    },
    {
     "data": {
      "image/png": "[encoded data removed]",
      "text/plain": [
       "<matplotlib.figure.Figure at 0x7f2aab29bb90>"
      ]
     },
     "metadata": {},
     "output_type": "display_data"
    }
   ],
   "source": [
    "# print out simple box plot\n",
    "df.plot(kind='box', figsize=(10,6))\n",
    "plt.title('Box Plot of the Stroop Lists')\n",
    "plt.ylabel(\"seconds\")"
   ]
  },
  {
   "cell_type": "markdown",
   "metadata": {},
   "source": [
    "Box plots show us the spread of the data, using the quartiles, median and the min and max points as well as the outliers for the data.  We can see above the Incongruent data has outliers around 35 seconds.\n",
    "\n",
    "One can visually see it takes the sample population more time to read the color of the ink of the words for the incongruent list with the box plot.  We can even quickly see the medians are much different as well as the ranges for the congruent and incongruent datasets.\n",
    "\n",
    "The data seems to be leading us to say it takes more time for a subject to say the color of the ink out loud when the color word is different than the color."
   ]
  },
  {
   "cell_type": "markdown",
   "metadata": {},
   "source": [
    "#### BarPlot"
   ]
  },
  {
   "cell_type": "code",
   "execution_count": 13,
   "metadata": {
    "collapsed": false
   },
   "outputs": [
    {
     "data": {
      "image/png": "[encoded data removed]",
      "text/plain": [
       "<matplotlib.figure.Figure at 0x7f2aab00fa50>"
      ]
     },
     "metadata": {},
     "output_type": "display_data"
    }
   ],
   "source": [
    "congruent_data = df['Congruent']\n",
    "incongruent_data =df['Incongruent']\n",
    "\n",
    "fig, ax = plt.subplots()\n",
    "\n",
    "#index is equal to the individual ids\n",
    "index = congruent_data.index.values\n",
    "bar_width = 0.35\n",
    "opacity = 0.8\n",
    "\n",
    "p1 = plt.bar(congruent_data.index.values, congruent_data, bar_width,\n",
    "                 alpha=opacity,\n",
    "                 color='r',\n",
    "                 label='Congruent')\n",
    "\n",
    "p2 = plt.bar(incongruent_data.index.values + bar_width, incongruent_data, bar_width,\n",
    "                 alpha=opacity,\n",
    "                 color='g',\n",
    "                 label='Incongruent')\n",
    "\n",
    "plt.xlabel('Test Subjects')\n",
    "plt.ylabel('Seconds')\n",
    "plt.title('Word Congruency by Individual')\n",
    "plt.legend(loc='best', frameon=False, title='Independant Variable')\n",
    "xticks( congruent_data.index.values )\n",
    "\n",
    "plt.tight_layout()\n",
    "plt.show()"
   ]
  },
  {
   "cell_type": "markdown",
   "metadata": {},
   "source": [
    "The barplot shows is a good representation of how the incongruent word list time to completion is much larger than the congruent word lists."
   ]
  },
  {
   "cell_type": "markdown",
   "metadata": {},
   "source": [
    "### 5. Now, perform the statistical test and report your results. What is your confidence level and your critical statistic value? Do you reject the null hypothesis or fail to reject it? Come to a conclusion in terms of the experiment task. Did the results match up with your expectations?\n",
    "\n",
    "For Paired t, the hypotheses are:  \n",
    "\n",
    "**Null hypothesis**  \n",
    "H0: μd = μ0  \n",
    "The population mean of the differences (μd) equals the hypothesized mean of the differences (μ0).  \n",
    "\n",
    "**Alternative hypothesis**  \n",
    "H1: μd ≠ μ0  \n",
    "The population mean of the differences (μd) does not equal the hypothesized mean of the differences (μ0).   \n",
    "\n",
    "\n",
    "*Notes*\n",
    "> If we observe a large p-value, for example greater than 0.025 (two tail) then we cannot reject the null hypothesis. Small p-values are associated with large t-statistics.\n",
    "\n",
    "http://docs.scipy.org/doc/scipy/reference/generated/scipy.stats.ttest_rel.html\n"
   ]
  },
  {
   "cell_type": "markdown",
   "metadata": {},
   "source": [
    "#### Confidence Interval\n",
    "\n",
    "[t table look up for 23 df](https://s3.amazonaws.com/udacity-hosted-downloads/t-table.jpg)\n",
    "\n",
    "\n",
    "\n",
    "##### One Tail Confidence Intervals t(23) [23 degrees of freedom]\n",
    " - 0.05 alpha 1.714, one tail\n",
    " - 0.01 alpha 2.500, one tail\n",
    " - 0.001 alpha 3.485, one tail\n",
    " \n",
    "##### Two Tail Confidence Intervals t(23) [23 degrees of freedom]\n",
    " - 0.025 alpha 2.069, two tail\n",
    " - 0.005 alpha 2.807, two tail\n",
    " - 0.0005 alpha 3.768, two tail\n",
    " \n",
    "####  Normal Distribution Plot"
   ]
  },
  {
   "cell_type": "code",
   "execution_count": 14,
   "metadata": {
    "collapsed": false
   },
   "outputs": [
    {
     "data": {
      "image/png": "[encoded data removed]",
      "text/plain": [
       "<matplotlib.figure.Figure at 0x7f2aaacf0910>"
      ]
     },
     "metadata": {},
     "output_type": "display_data"
    }
   ],
   "source": [
    "# setup the equation\n",
    "mean_plot = 0\n",
    "variance = 1\n",
    "sigma = np.sqrt(variance)\n",
    "x = np.linspace(-4,4,100)  # define the length of the tail out to 4 std dev\n",
    "                          # and population size of 100 to get normalized shape\n",
    "plt.title('Two Tail Distribution - t(23) scores')\n",
    "plt.plot(x,mlab.normpdf(x,mean_plot,sigma),'k-', lw=2)\n",
    "plt.axvline(-2.069, color='b', linestyle='dashed', linewidth=1)\n",
    "plt.axvline(2.069, color='b', linestyle='dashed', linewidth=1)\n",
    "plt.axvline(-2.807, color='b', linestyle='dashed', linewidth=1)\n",
    "plt.axvline(2.807, color='b', linestyle='dashed', linewidth=1)\n",
    "plt.axvline(-3.327, color='b', linestyle='dashed', linewidth=1)\n",
    "plt.axvline(3.327, color='b', linestyle='dashed', linewidth=1)\n",
    "plt.text(2.069,  .25, r'z=2.069')\n",
    "plt.text(2.069,  .23, r'alpha=0.025')\n",
    "plt.text(2.807, .20, r'z=-2.807')\n",
    "plt.text(2.807,  .18, r'alpha=0.005')\n",
    "plt.text(3.768, .15, r'z=-3.768')\n",
    "plt.text(3.768,  .13, r'alpha=0.0005')\n",
    "plt.show()"
   ]
  },
  {
   "cell_type": "markdown",
   "metadata": {},
   "source": [
    "## Calculations "
   ]
  },
  {
   "cell_type": "code",
   "execution_count": 15,
   "metadata": {
    "collapsed": false
   },
   "outputs": [],
   "source": [
    "diff= df\n",
    "diff['diff'] = diff['Incongruent']-diff['Congruent']   # Create a difference column\n"
   ]
  },
  {
   "cell_type": "code",
   "execution_count": 16,
   "metadata": {
    "collapsed": true
   },
   "outputs": [],
   "source": [
    "# we have reviewed the data and we know the sample sizes are similar\n",
    "diff_n = diff['diff'].count()   # Sample count\n",
    "\n",
    "# Get the means of all the samples\n",
    "diff_con_mean = stats.tmean(diff['Congruent'], limits=None, inclusive=(True, True)) \n",
    "diff_incog_mean = stats.tmean(diff['Incongruent'], limits=None, inclusive=(True, True)) \n",
    "diff_mean = stats.tmean(diff['diff'], limits=None, inclusive=(True, True)) "
   ]
  },
  {
   "cell_type": "code",
   "execution_count": 17,
   "metadata": {
    "collapsed": true
   },
   "outputs": [],
   "source": [
    "# Get the standard deviations of the samples\n",
    "# http://docs.scipy.org/doc/scipy/reference/generated/scipy.stats.ttest_rel.html\n",
    "sd_pop = stats.tstd(df['Congruent'], limits=None, inclusive=(True, True))\n",
    "sd_sample = stats.tstd(df['Incongruent'], limits=None, inclusive=(True, True))\n",
    "diff_sd = stats.tstd(df['diff'], limits=None, inclusive=(True, True)) # verified with test calc 1.0\n",
    "\n",
    "# test calc 1.0 - validate the sample sd equation (make sure I'm using the correct method from scipy)\n",
    "diff['diff_mean_var']  = diff['diff']-diff_mean\n",
    "diff['squared_diff'] = np.square(df['diff_mean_var'])\n",
    "diff_sum = diff['squared_diff'].sum()\n",
    "diff_sd_sample_mean = (diff_sum / (diff_n-1))\n",
    "diff_sd_check = np.sqrt(diff_sd_sample_mean)"
   ]
  },
  {
   "cell_type": "code",
   "execution_count": 18,
   "metadata": {
    "collapsed": false,
    "scrolled": false
   },
   "outputs": [
    {
     "name": "stdout",
     "output_type": "stream",
     "text": [
      "CRITICAL VALUE(S)\n",
      "T-Statistic\t\t\t = 8.02071\n",
      "\n",
      "\n",
      "EFFECT SIZE MEASURES\n",
      "Point Estimate\t\t\t = 7.96479\n",
      "Cohens-D\t\t\t = 1.63722\n",
      "STANDARD ERROR OF THE MEAN \t = 0.726550900679\n",
      " \n",
      "\n",
      "DESCRIPTIVE STATISTICS\n",
      "\t\tn\tmean\tStDev\tSE Mean\n",
      "Congruent\t24.00\t14.05\t3.56\t0.73\n",
      "Incongruent\t24.00\t22.02\t4.80\t0.98\n",
      "Difference\t24.00\t7.96\t4.86\t0.99\n",
      "\n",
      "\n",
      "CONFIDENCE INTERVALS\n",
      "95% CI  for the mean difference: (5.91022, 10.01937)\n",
      "Margin of Error: 2.05\n",
      "\n",
      "\n",
      "99.9% CI  for the mean difference:  (4.22306, 11.70652)\n",
      "Margin of Error: 3.74\n",
      "\n",
      "\n",
      "The t-statistic is 8.02071 and the p-value is 0.000000041\n",
      "T-Test for the mean difference = 0 (vs != 0) : T-Value: 8.02 P-Value: 0.000000041 \n"
     ]
    }
   ],
   "source": [
    "# calculate the stats\n",
    "point_estimate = diff_incog_mean - diff_con_mean \n",
    "diff_t_statistic = point_estimate / (diff_sd /  np.sqrt(diff_n))\n",
    "cohens_d = point_estimate / diff_sd\n",
    "\n",
    "# calculate CI for 2-tail t test, 95%\n",
    "lower_CI = point_estimate - (2.069 * (diff_sd / np.sqrt(diff_n)))\n",
    "upper_CI = point_estimate + (2.069 * (diff_sd / np.sqrt(diff_n)))\n",
    "\n",
    "print 'CRITICAL VALUE(S)'\n",
    "print 'T-Statistic\\t\\t\\t = %.5f' % diff_t_statistic\n",
    "print '\\n'\n",
    "\n",
    "print 'EFFECT SIZE MEASURES'\n",
    "print 'Point Estimate\\t\\t\\t = %.5f'% point_estimate\n",
    "print 'Cohens-D\\t\\t\\t = %.5f' % cohens_d\n",
    "# Standard error is the sigma of pop / sqrt(sample number)\n",
    "# for the sampling distribution\n",
    "SE = sd_pop/np.sqrt(diff_n)\n",
    "print('STANDARD ERROR OF THE MEAN \\t = ' + str(sd_pop/np.sqrt(diff_n)))\n",
    "print ' \\n'\n",
    "\n",
    "print 'DESCRIPTIVE STATISTICS'\n",
    "print '\\t\\tn\\tmean\\tStDev\\tSE Mean'\n",
    "print 'Congruent\\t%.2f\\t%.2f\\t%.2f\\t%.2f' % (diff_n,diff_con_mean,sd_pop,(sd_pop/np.sqrt(diff_n)))\n",
    "print 'Incongruent\\t%.2f\\t%.2f\\t%.2f\\t%.2f' % (diff_n,diff_incog_mean,sd_sample,(sd_sample/np.sqrt(diff_n)))\n",
    "print 'Difference\\t%.2f\\t%.2f\\t%.2f\\t%.2f' % (diff_n,diff_mean,diff_sd,(diff_sd/np.sqrt(diff_n)))\n",
    "print '\\n'\n",
    "print 'CONFIDENCE INTERVALS'\n",
    "print '95%% CI  for the mean difference: (%.5f, %.5f)' % (lower_CI,upper_CI)\n",
    "print 'Margin of Error: %.2f' % ((upper_CI-lower_CI)/2.0)\n",
    "print '\\n'\n",
    "\n",
    "# re-run for 99.9\n",
    "lower_CI = point_estimate - (3.768 * (diff_sd / np.sqrt(diff_n)))\n",
    "upper_CI = point_estimate + (3.768 * (diff_sd / np.sqrt(diff_n)))\n",
    "print '99.9%% CI  for the mean difference:  (%.5f, %.5f)' % (lower_CI,upper_CI)\n",
    "print 'Margin of Error: %.2f' % ((upper_CI-lower_CI)/2.0)\n",
    "print '\\n'\n",
    "\n",
    "# t-test via scipy \n",
    "# returns t-statistic and two-tailed p-value\n",
    "paried_t_test_results = stats.ttest_rel(df['Incongruent'],df['Congruent'])\n",
    "t_statistic = paried_t_test_results[0]\n",
    "p_value = paried_t_test_results[1]\n",
    "print \"The t-statistic is %.5f and the p-value is %.9f\" % paried_t_test_results\n",
    "print 'T-Test for the mean difference = 0 (vs != 0) : T-Value: %.2f P-Value: %.9f ' % (diff_t_statistic,p_value )"
   ]
  },
  {
   "cell_type": "markdown",
   "metadata": {},
   "source": [
    "### Conclusion"
   ]
  },
  {
   "cell_type": "markdown",
   "metadata": {},
   "source": [
    "We **reject the null hypothesis** for our paired t-test because the absolute value of the test statistic (8.02) is greater than the critical value (3.768). \n",
    "\n",
    "A paired-samples t-test was run on a sample of 24 subjects to determine whether there was a statistically significant mean difference in time (seconds) between reading word lists of congruent and incongruent lists. Participants' incongruent reading time is higher (22.016 ± 4.797 seconds) than the congruent reading times (14.051 ± 3.559 seconds); a statistically significant mean increase of 8.65 (99.9% CI, 4.223, 11.707) seconds, t(23) = 8.02, p < .0005."
   ]
  },
  {
   "cell_type": "code",
   "execution_count": 19,
   "metadata": {
    "collapsed": false
   },
   "outputs": [
    {
     "data": {
      "image/png": "[encoded data removed]",
      "text/plain": [
       "<matplotlib.figure.Figure at 0x7f2aab218450>"
      ]
     },
     "metadata": {},
     "output_type": "display_data"
    }
   ],
   "source": [
    "# equation variables defined a above\n",
    "plt.title('Two Tail Distribution - t(23) scores')\n",
    "plt.plot(x,mlab.normpdf(x,mean_plot,sigma),'k-', lw=2)\n",
    "plt.axvline(3.768, color='b', linestyle='dashed', linewidth=1)\n",
    "plt.axvline(8.02, color='r', linestyle='-', linewidth=1)\n",
    "plt.text(3.868, .15, r't=3.768')\n",
    "plt.text(3.868,  .13, r'alpha=0.0005')\n",
    "plt.text(8.22, .15, r't=8.02')\n",
    "plt.text(8.22,  .13, r'alpha=0.0')\n",
    "plt.show()"
   ]
  },
  {
   "cell_type": "markdown",
   "metadata": {},
   "source": [
    "#### T-Statistic is far to the right of out t-critical value of 3.768."
   ]
  },
  {
   "cell_type": "code",
   "execution_count": 20,
   "metadata": {
    "collapsed": false
   },
   "outputs": [
    {
     "name": "stdout",
     "output_type": "stream",
     "text": [
      "Rejection of H0: True\n",
      "p value 0.000000041 is in the critical region for alpha level 0.0005\n"
     ]
    }
   ],
   "source": [
    "# code up the t-test check for H0 rejection\n",
    "# Reject the null hypo when p value is less than probility of alpha's\n",
    "# p-values from stats.ttest_rel is 2 tail\n",
    "rejection = False   # monitor rejection based on p-values\n",
    "result    = ''      # setup output\n",
    "if p_value < 0.025:\n",
    "    rejection = True\n",
    "    result ='p value %.9f is in the critical region for alpha level 0.025' % p_value\n",
    "if p_value < 0.005:\n",
    "    rejection = True\n",
    "    result = 'p value %.9f is in the critical region for alpha level 0.005' % p_value\n",
    "if p_value < 0.005:\n",
    "    rejection = True\n",
    "    result = 'p value %.9f is in the critical region for alpha level 0.0005' % p_value\n",
    "else:\n",
    "    print 'you lose'\n",
    "    \n",
    "print 'Rejection of H0: %s' % rejection    \n",
    "print result    "
   ]
  },
  {
   "cell_type": "markdown",
   "metadata": {},
   "source": [
    "### 6. What do you think is responsible for the effects observed? \n",
    "\n",
    "Based on the theories listed my pick is 'Selective Attention' and 'Parallel Distributed Processing'.\n",
    "\n",
    "See Wikiepdia - The Stroop Effect | Wikiepdia - The Stroop Effect\n",
    "\n",
    "### Can you think of an alternative or similar task that would result in a similar effect? \n",
    "\n",
    "Learning a new language and having to read the words in German and think of the translation back to English.  At the oncept of learning the language I would suppose one could have a 'Parallel Distributed Processing'  because we are reading and also processing and mapping the German word back to English and then mapping the English word back to it's meaning.\n",
    "\n"
   ]
  },
  {
   "cell_type": "markdown",
   "metadata": {},
   "source": [
    "## References\n",
    "\n",
    "[Pandas Documentation](http://pandas.pydata.org/pandas-docs/version/0.15.0/visualization.html)\n",
    "\n",
    "[Wikiepdia - The Stroop Effect](https://en.wikipedia.org/wiki/Stroop_effect)\n",
    "\n",
    "[Paired T-Test | Lared](https://statistics.laerd.com/minitab-tutorials/paired-t-test-using-minitab.php)\n",
    "\n",
    "[Wilcox Signed Rank | Lared](https://statistics.laerd.com/minitab-tutorials/wilcoxon-signed-rank-test-using-minitab.php)\n"
   ]
  },
  {
   "cell_type": "markdown",
   "metadata": {},
   "source": [
    "### [Notes]"
   ]
  },
  {
   "cell_type": "markdown",
   "metadata": {},
   "source": [
    "Chart Examples and equations used to understand the math behind various methods in the python.\n",
    "\n",
    "Re-using the variables is going to be a debuging pain when an error in the code occurs.  Need a better way or new variables per sample."
   ]
  },
  {
   "cell_type": "code",
   "execution_count": 21,
   "metadata": {
    "collapsed": false
   },
   "outputs": [
    {
     "name": "stdout",
     "output_type": "stream",
     "text": [
      " SE Congruent:  0.726550900679\n",
      " SE Incongruent:0.979195184753\n"
     ]
    }
   ],
   "source": [
    "# scipy standard error method mean (SE) ->  std deviation / sqrt(sample size)\n",
    "# ddof = 1, checking these values against the calculated ones\n",
    "print ' SE Congruent:  ' + str(stats.sem(df['Congruent'], axis=None, ddof=1))\n",
    "print ' SE Incongruent:' + str(stats.sem(df['Incongruent'], axis=None, ddof=1))"
   ]
  },
  {
   "cell_type": "markdown",
   "metadata": {},
   "source": [
    "#####  Charts"
   ]
  },
  {
   "cell_type": "code",
   "execution_count": 22,
   "metadata": {
    "collapsed": false
   },
   "outputs": [
    {
     "data": {
      "image/png": "[encoded data removed]",
      "text/plain": [
       "<matplotlib.figure.Figure at 0x7f2aab068150>"
      ]
     },
     "metadata": {},
     "output_type": "display_data"
    }
   ],
   "source": [
    "# setup the equation\n",
    "plt.title('One Tail Distribution z scores (H0 < HA)')\n",
    "plt.plot(x,mlab.normpdf(x,mean_plot,sigma),'k-', lw=2)\n",
    "plt.axvline(1.65, color='b', linestyle='dashed', linewidth=1)\n",
    "plt.axvline(2.32, color='b', linestyle='dashed', linewidth=1)\n",
    "plt.axvline(3.08, color='b', linestyle='dashed', linewidth=1)\n",
    "plt.text(1.65,  .25, r'z=1.65')\n",
    "plt.text(1.65,  .23, r'alpha=0.05')\n",
    "plt.text(2.32, .20, r'z=2.32')\n",
    "plt.text(2.32, .18, r'alpha=0.01')\n",
    "plt.text(3.08,  .15, r'z=3.08')\n",
    "plt.text(3.08,  .13, r'alpha=0.001')\n",
    "plt.show()\n",
    "\n"
   ]
  },
  {
   "cell_type": "code",
   "execution_count": null,
   "metadata": {
    "collapsed": true
   },
   "outputs": [],
   "source": []
  }
 ],
 "metadata": {
  "kernelspec": {
   "display_name": "Python 2",
   "language": "python",
   "name": "python2"
  },
  "language_info": {
   "codemirror_mode": {
    "name": "ipython",
    "version": 2
   },
   "file_extension": ".py",
   "mimetype": "text/x-python",
   "name": "python",
   "nbconvert_exporter": "python",
   "pygments_lexer": "ipython2",
   "version": "2.7.10"
  }
 },
 "nbformat": 4,
 "nbformat_minor": 0
}
